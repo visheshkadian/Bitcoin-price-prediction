{
 "cells": [
  {
   "cell_type": "code",
   "execution_count": 1,
   "metadata": {},
   "outputs": [
    {
     "name": "stdout",
     "output_type": "stream",
     "text": [
      "Model: \"sequential\"\n",
      "_________________________________________________________________\n",
      "Layer (type)                 Output Shape              Param #   \n",
      "=================================================================\n",
      "lstm (LSTM)                  (None, 60, 50)            11200     \n",
      "_________________________________________________________________\n",
      "dropout (Dropout)            (None, 60, 50)            0         \n",
      "_________________________________________________________________\n",
      "lstm_1 (LSTM)                (None, 60, 60)            26640     \n",
      "_________________________________________________________________\n",
      "dropout_1 (Dropout)          (None, 60, 60)            0         \n",
      "_________________________________________________________________\n",
      "lstm_2 (LSTM)                (None, 60, 80)            45120     \n",
      "_________________________________________________________________\n",
      "dropout_2 (Dropout)          (None, 60, 80)            0         \n",
      "_________________________________________________________________\n",
      "lstm_3 (LSTM)                (None, 120)               96480     \n",
      "_________________________________________________________________\n",
      "dropout_3 (Dropout)          (None, 120)               0         \n",
      "_________________________________________________________________\n",
      "dense (Dense)                (None, 1)                 121       \n",
      "=================================================================\n",
      "Total params: 179,561\n",
      "Trainable params: 179,561\n",
      "Non-trainable params: 0\n",
      "_________________________________________________________________\n",
      "Epoch 1/20\n",
      "23/23 [==============================] - 21s 408ms/step - loss: 0.0286 - val_loss: 0.0080\n",
      "Epoch 2/20\n",
      "23/23 [==============================] - 7s 311ms/step - loss: 0.0099 - val_loss: 0.0015\n",
      "Epoch 3/20\n",
      "23/23 [==============================] - 7s 307ms/step - loss: 0.0071 - val_loss: 0.0016\n",
      "Epoch 4/20\n",
      "23/23 [==============================] - 7s 309ms/step - loss: 0.0067 - val_loss: 0.0105\n",
      "Epoch 5/20\n",
      "23/23 [==============================] - 7s 313ms/step - loss: 0.0073 - val_loss: 0.0051\n",
      "Epoch 6/20\n",
      "23/23 [==============================] - 7s 303ms/step - loss: 0.0065 - val_loss: 0.0012\n",
      "Epoch 7/20\n",
      "23/23 [==============================] - 7s 314ms/step - loss: 0.0053 - val_loss: 0.0012\n",
      "Epoch 8/20\n",
      "23/23 [==============================] - 7s 310ms/step - loss: 0.0054 - val_loss: 0.0016\n",
      "Epoch 9/20\n",
      "23/23 [==============================] - 7s 311ms/step - loss: 0.0042 - val_loss: 0.0010\n",
      "Epoch 10/20\n",
      "23/23 [==============================] - 7s 319ms/step - loss: 0.0048 - val_loss: 0.0019\n",
      "Epoch 11/20\n",
      "23/23 [==============================] - 7s 316ms/step - loss: 0.0046 - val_loss: 0.0036\n",
      "Epoch 12/20\n",
      "23/23 [==============================] - 7s 317ms/step - loss: 0.0043 - val_loss: 9.8494e-04\n",
      "Epoch 13/20\n",
      "23/23 [==============================] - 7s 311ms/step - loss: 0.0042 - val_loss: 9.0171e-04\n",
      "Epoch 14/20\n",
      "23/23 [==============================] - 7s 317ms/step - loss: 0.0044 - val_loss: 0.0010\n",
      "Epoch 15/20\n",
      "23/23 [==============================] - 7s 313ms/step - loss: 0.0042 - val_loss: 0.0020\n",
      "Epoch 16/20\n",
      "23/23 [==============================] - 7s 314ms/step - loss: 0.0039 - val_loss: 9.4459e-04\n",
      "Epoch 17/20\n",
      "23/23 [==============================] - 7s 322ms/step - loss: 0.0037 - val_loss: 0.0012\n",
      "Epoch 18/20\n",
      "23/23 [==============================] - 7s 319ms/step - loss: 0.0040 - val_loss: 8.4498e-04\n",
      "Epoch 19/20\n",
      "23/23 [==============================] - 7s 327ms/step - loss: 0.0034 - val_loss: 0.0015\n",
      "Epoch 20/20\n",
      "23/23 [==============================] - 7s 284ms/step - loss: 0.0040 - val_loss: 0.0018\n"
     ]
    },
    {
     "data": {
      "image/png": "[encoded data removed]",
      "text/plain": [
       "<Figure size 432x288 with 1 Axes>"
      ]
     },
     "metadata": {
      "needs_background": "light"
     },
     "output_type": "display_data"
    }
   ],
   "source": [
    "import numpy as np\n",
    "import matplotlib.pyplot as plt\n",
    "import pandas as pd\n",
    "from sklearn.preprocessing import MinMaxScaler\n",
    "\n",
    "data = pd.read_csv('BTC-USD.csv', date_parser = True)\n",
    "data_training = data[data['Date']< '2020-01-01'].copy()\n",
    "data_test = data[data['Date']< '2020-01-01'].copy()\n",
    "training_data = data_training.drop(['Date', 'Adj Close'], axis = 1)\n",
    "\n",
    "scaler = MinMaxScaler()\n",
    "training_data = scaler.fit_transform(training_data)\n",
    "\n",
    "X_train = [] \n",
    "Y_train = []\n",
    "for i in range(60, training_data.shape[0]):\n",
    "    X_train.append(training_data[i-60:i])\n",
    "    Y_train.append(training_data[i,0])\n",
    "X_train, Y_train = np.array(X_train), np.array(Y_train)\n",
    "X_train.shape\n",
    "    \n",
    "\n",
    "from tensorflow.keras import Sequential\n",
    "from tensorflow.keras.layers import Dense, LSTM, Dropout\n",
    "#Initialize the RNN\n",
    "model = Sequential() \n",
    "model.add(LSTM(units = 50, activation = 'relu', return_sequences = True, input_shape = (X_train.shape[1], 5)))\n",
    "model.add(Dropout(0.2)) \n",
    "model.add(LSTM(units = 60, activation = 'relu', return_sequences = True))\n",
    "model.add(Dropout(0.3)) \n",
    "model.add(LSTM(units = 80, activation = 'relu', return_sequences = True))\n",
    "model.add(Dropout(0.4)) \n",
    "model.add(LSTM(units = 120, activation = 'relu'))\n",
    "model.add(Dropout(0.5)) \n",
    "model.add(Dense(units =1))\n",
    "model.summary()\n",
    "\n",
    "model.compile(optimizer = 'adam', loss = 'mean_squared_error')\n",
    "history= model.fit(X_train, Y_train, epochs = 20, batch_size =50, validation_split=0.1)\n",
    "\n",
    "loss = history.history['loss']\n",
    "val_loss = history.history['val_loss']\n",
    "epochs = range(len(loss))\n",
    "plt.figure()\n",
    "plt.plot(epochs, loss, 'b', label='Training loss')\n",
    "plt.plot(epochs, val_loss, 'r', label='Validation loss')\n",
    "plt.title(\"Training and Validation Loss\")\n",
    "plt.legend()\n",
    "plt.show()\n"
   ]
  },
  {
   "cell_type": "code",
   "execution_count": 2,
   "metadata": {},
   "outputs": [
    {
     "name": "stdout",
     "output_type": "stream",
     "text": [
      "WARNING:tensorflow:Model was constructed with shape (None, 60, 5) for input KerasTensor(type_spec=TensorSpec(shape=(None, 60, 5), dtype=tf.float32, name='lstm_input'), name='lstm_input', description=\"created by layer 'lstm_input'\"), but it was called on an input with incompatible shape (32, 30, 5).\n"
     ]
    },
    {
     "data": {
      "image/png": "[encoded data removed]",
      "text/plain": [
       "<Figure size 1008x360 with 1 Axes>"
      ]
     },
     "metadata": {
      "needs_background": "light"
     },
     "output_type": "display_data"
    }
   ],
   "source": [
    "part_30_days = data_training.tail(30)\n",
    "df= part_30_days.append(data_test, ignore_index = True)\n",
    "df = df.drop(['Date', 'Adj Close'], axis = 1)\n",
    "\n",
    "inputs = scaler.transform(df) \n",
    "X_test = []\n",
    "Y_test = []\n",
    "for i in range (30, inputs.shape[0]):\n",
    "    X_test.append(inputs[i-30:i]) \n",
    "    Y_test.append(inputs[i, 0])\n",
    "X_test, Y_test = np.array(X_test), np.array(Y_test)\n",
    "Y_pred = model.predict(X_test)\n",
    "\n",
    "scale = 1/5.18164146e-04\n",
    "Y_test = Y_test*scale \n",
    "Y_pred = Y_pred*scale\n",
    "\n",
    "plt.figure(figsize=(14,5))\n",
    "plt.plot(Y_test, color = 'red', label = 'Real Bitcoin Price')\n",
    "plt.plot(Y_pred, color = 'green', label = 'Predicted Bitcoin Price')\n",
    "plt.title('Bitcoin Price Prediction using RNN-LSTM')\n",
    "plt.xlabel('Time')\n",
    "plt.ylabel('Price')\n",
    "plt.legend()\n",
    "plt.show()"
   ]
  },
  {
   "cell_type": "code",
   "execution_count": 4,
   "metadata": {},
   "outputs": [
    {
     "data": {
      "text/plain": [
       "<matplotlib.legend.Legend at 0x1cd81a28f10>"
      ]
     },
     "execution_count": 4,
     "metadata": {},
     "output_type": "execute_result"
    },
    {
     "data": {
      "image/png": "[encoded data removed]",
      "text/plain": [
       "<Figure size 432x288 with 1 Axes>"
      ]
     },
     "metadata": {
      "needs_background": "light"
     },
     "output_type": "display_data"
    }
   ],
   "source": [
    "#K-neighbors regression\n",
    "\n",
    "data_new = data.copy()\n",
    "data_new = data_new.fillna(method='ffill')\n",
    "from sklearn.preprocessing import MinMaxScaler\n",
    "scaler = MinMaxScaler()\n",
    "\n",
    "X = data_new.drop(['Date','Close'], axis =1)\n",
    "y = data_new['Close']\n",
    "\n",
    "#split data\n",
    "from sklearn.model_selection import train_test_split\n",
    "X_train_org, X_test_org, y_train, y_test = train_test_split(X,y, test_size = 0.2,random_state = 20)\n",
    "\n",
    "X_train = scaler.fit_transform(X_train_org)\n",
    "X_test = scaler.transform(X_test_org)\n",
    "\n",
    "from sklearn.model_selection import cross_val_score\n",
    "scores = {}\n",
    "cv_s= {}\n",
    "\n",
    "from sklearn.neighbors import KNeighborsRegressor\n",
    "training_accuracy = []\n",
    "test_accuracy = []\n",
    "neighbor_seetings = range(1,7)\n",
    "\n",
    "for x in neighbor_seetings:\n",
    "    knr = KNeighborsRegressor(n_neighbors = x)\n",
    "    knr.fit(X_train, y_train)\n",
    "    training_accuracy.append(knr.score(X_train, y_train))\n",
    "    test_accuracy.append(knr.score(X_test,y_test))\n",
    "\n",
    "# Show the relationship of accuarcy and n_neighbors\n",
    "plt.plot(neighbor_seetings, training_accuracy, label = 'training accuracy')\n",
    "plt.plot(neighbor_seetings, test_accuracy, label = 'test accuracy')\n",
    "plt.ylabel(\"Accuracy\")\n",
    "plt.xlabel('n_neighbors')\n",
    "plt.legend()"
   ]
  },
  {
   "cell_type": "code",
   "execution_count": 5,
   "metadata": {},
   "outputs": [
    {
     "name": "stdout",
     "output_type": "stream",
     "text": [
      "Cross-validation training scores (5-fold): [0.99932589 0.99910245 0.99892081 0.99939816 0.99884013]\n",
      "Mean cross-validation training score (5-fold): 0.999\n"
     ]
    }
   ],
   "source": [
    "scores['K-neighbors regression'] = [training_accuracy[2],test_accuracy[2]]\n",
    "\n",
    "# Cross Validation\n",
    "knr = KNeighborsRegressor(n_neighbors = 3)\n",
    "cv_scores = cross_val_score(knr, X_train, y_train,cv = 5)\n",
    "print('Cross-validation training scores (5-fold):', cv_scores)\n",
    "print('Mean cross-validation training score (5-fold): {:.3f}'.format(np.mean(cv_scores)))\n",
    "cv_test_scores = cross_val_score(knr, X_test, y_test,cv = 5)\n",
    "cv_s['K-neighbors regression']=[np.mean(cv_scores),np.mean(cv_test_scores)]"
   ]
  },
  {
   "cell_type": "code",
   "execution_count": 6,
   "metadata": {},
   "outputs": [
    {
     "name": "stdout",
     "output_type": "stream",
     "text": [
      "Train score: 1.0\n",
      "Test score: 1.0\n"
     ]
    }
   ],
   "source": [
    "from sklearn.linear_model import LinearRegression\n",
    "lr = LinearRegression()\n",
    "\n",
    "lr.fit(X_train, y_train)\n",
    "print('Train score: {}'.format(lr.score(X_train, y_train)))\n",
    "print('Test score: {}'.format(lr.score(X_test,y_test)))\n",
    "scores['LinearRegression']=[lr.score(X_train, y_train),lr.score(X_test,y_test)]"
   ]
  },
  {
   "cell_type": "code",
   "execution_count": 7,
   "metadata": {},
   "outputs": [
    {
     "name": "stdout",
     "output_type": "stream",
     "text": [
      "Cross-validation training scores (5-fold): [1. 1. 1. 1. 1.]\n",
      "Mean cross-validation training score (5-fold): 1.000\n"
     ]
    }
   ],
   "source": [
    "# Cross Validation\n",
    "cv_scores = cross_val_score(lr, X_train, y_train,cv = 5)\n",
    "print('Cross-validation training scores (5-fold):', cv_scores)\n",
    "print('Mean cross-validation training score (5-fold): {:.3f}'.format(np.mean(cv_scores)))\n",
    "cv_test_scores = cross_val_score(lr, X_test, y_test,cv = 5)\n",
    "cv_s['LinearRegression']=[np.mean(cv_scores),np.mean(cv_test_scores)]"
   ]
  },
  {
   "cell_type": "code",
   "execution_count": 8,
   "metadata": {},
   "outputs": [
    {
     "name": "stdout",
     "output_type": "stream",
     "text": [
      "Train score: 0.9993162505957485\n",
      "Test score: 0.9994366519277343\n"
     ]
    }
   ],
   "source": [
    "# Alpha by default is 1.0\n",
    "from sklearn.linear_model import Ridge\n",
    "ridge = Ridge()\n",
    "ridge.fit(X_train, y_train)\n",
    "print('Train score: {}'.format(ridge.score(X_train, y_train)))\n",
    "print('Test score: {}'.format(ridge.score(X_test,y_test)))"
   ]
  },
  {
   "cell_type": "code",
   "execution_count": 9,
   "metadata": {},
   "outputs": [
    {
     "data": {
      "text/plain": [
       "<matplotlib.legend.Legend at 0x1cd81aaf7c0>"
      ]
     },
     "execution_count": 9,
     "metadata": {},
     "output_type": "execute_result"
    },
    {
     "data": {
      "image/png": "[encoded data removed]",
      "text/plain": [
       "<Figure size 432x288 with 1 Axes>"
      ]
     },
     "metadata": {
      "needs_background": "light"
     },
     "output_type": "display_data"
    }
   ],
   "source": [
    "a =np.linspace(0.001,25,1000)\n",
    "training_accuracy = []\n",
    "test_accuracy = []\n",
    "for x in a:\n",
    "    ridge = Ridge(alpha = x)\n",
    "    ridge.fit(X_train, y_train)\n",
    "    training_accuracy.append(ridge.score(X_train, y_train))\n",
    "    test_accuracy.append(ridge.score(X_test,y_test))\n",
    "    \n",
    "plt.plot(a, training_accuracy, label = 'training accuracy')\n",
    "plt.plot(a, test_accuracy, label = 'test accuracy')\n",
    "plt.ylabel(\"Scores\")\n",
    "plt.xlabel('alpha')\n",
    "plt.legend()"
   ]
  },
  {
   "cell_type": "code",
   "execution_count": 10,
   "metadata": {},
   "outputs": [
    {
     "name": "stdout",
     "output_type": "stream",
     "text": [
      "Best parameters{'alpha': 0.001}\n",
      "Best score 1.00\n"
     ]
    }
   ],
   "source": [
    "# Use GridSearchCV to find the best alpha\n",
    "from sklearn.model_selection import GridSearchCV\n",
    "\n",
    "ridge = Ridge()\n",
    "param_grid = {'alpha':[0.001,0.01, 0.1,1]}\n",
    "\n",
    "grid_search = GridSearchCV(ridge, param_grid, cv = 5)\n",
    "grid_search.fit(X_train, y_train)\n",
    "\n",
    "#use gridsearch to get the best parameters, alpha=0.001\n",
    "print('Best parameters{}'.format(grid_search.best_params_))\n",
    "print('Best score {:.2f}'.format(grid_search.best_score_))"
   ]
  },
  {
   "cell_type": "code",
   "execution_count": 11,
   "metadata": {},
   "outputs": [
    {
     "name": "stdout",
     "output_type": "stream",
     "text": [
      "Cross-validation training scores (5-fold): [0.99999964 0.99999818 0.99999941 0.99999933 0.99999913]\n",
      "Mean cross-validation training score (5-fold): 1.000\n"
     ]
    }
   ],
   "source": [
    "ridge = Ridge(alpha = 0.001)\n",
    "ridge.fit(X_train, y_train)\n",
    "scores['Ridge']=[ridge.score(X_train, y_train),ridge.score(X_test,y_test)]\n",
    "\n",
    "# Cross Validation\n",
    "cv_scores = cross_val_score(ridge, X_train, y_train,cv = 5)\n",
    "print('Cross-validation training scores (5-fold):', cv_scores)\n",
    "print('Mean cross-validation training score (5-fold): {:.3f}'.format(np.mean(cv_scores)))\n",
    "cv_test_scores = cross_val_score(ridge, X_test, y_test,cv = 5)\n",
    "cv_s['Ridge']=[np.mean(cv_scores),np.mean(cv_test_scores)]"
   ]
  },
  {
   "cell_type": "code",
   "execution_count": 12,
   "metadata": {},
   "outputs": [
    {
     "name": "stdout",
     "output_type": "stream",
     "text": [
      "Train score: 0.9999952394102118\n",
      "Test score: 0.9999957755483675\n",
      "Number of features used: 3\n"
     ]
    }
   ],
   "source": [
    "from sklearn.linear_model import Lasso\n",
    "\n",
    "lasso = Lasso(max_iter = 100000)\n",
    "lasso.fit(X_train, y_train)\n",
    "print('Train score: {}'.format(lasso.score(X_train, y_train)))\n",
    "print('Test score: {}'.format(lasso.score(X_test,y_test)))\n",
    "print('Number of features used: {}'.format(np.sum(lasso.coef_ != 0)))"
   ]
  },
  {
   "cell_type": "code",
   "execution_count": 13,
   "metadata": {},
   "outputs": [
    {
     "data": {
      "text/plain": [
       "<matplotlib.legend.Legend at 0x1cd8233ba30>"
      ]
     },
     "execution_count": 13,
     "metadata": {},
     "output_type": "execute_result"
    },
    {
     "data": {
      "image/png": "[encoded data removed]",
      "text/plain": [
       "<Figure size 432x288 with 1 Axes>"
      ]
     },
     "metadata": {
      "needs_background": "light"
     },
     "output_type": "display_data"
    }
   ],
   "source": [
    "a =np.linspace(0.001,0.5,100)\n",
    "training_accuracy = []\n",
    "test_accuracy = []\n",
    "f = []\n",
    "for x in a:\n",
    "    lasso = Lasso(alpha = x, max_iter = 100000)\n",
    "    lasso.fit(X_train, y_train)\n",
    "    training_accuracy.append(lasso.score(X_train, y_train))\n",
    "    test_accuracy.append(lasso.score(X_test,y_test))\n",
    "    f.append(np.sum(lasso.coef_!=0))\n",
    "plt.plot(a, training_accuracy, label = 'training accuracy')\n",
    "plt.plot(a, test_accuracy, label = 'test accuracy')\n",
    "plt.ylabel(\"Scores\")\n",
    "plt.xlabel('alpha')\n",
    "plt.legend()"
   ]
  },
  {
   "cell_type": "code",
   "execution_count": 14,
   "metadata": {},
   "outputs": [
    {
     "name": "stdout",
     "output_type": "stream",
     "text": [
      "Best parameters{'alpha': 0.026}\n",
      "Best score 0.9999732488670249\n"
     ]
    }
   ],
   "source": [
    "lasso = Lasso(max_iter = 100000)\n",
    "param_grid = {'alpha':[0.017, 0.02, 0.023, 0.026]}\n",
    "\n",
    "grid_search = GridSearchCV(lasso, param_grid, cv = 5)\n",
    "grid_search.fit(X_train, y_train)\n",
    "\n",
    "print('Best parameters{}'.format(grid_search.best_params_))\n",
    "print('Best score {}'.format(grid_search.best_score_))"
   ]
  },
  {
   "cell_type": "code",
   "execution_count": 15,
   "metadata": {},
   "outputs": [
    {
     "name": "stdout",
     "output_type": "stream",
     "text": [
      "Cross-validation training scores (5-fold): [0.99998535 0.99997784 0.9999354  0.99997978 0.99998393]\n",
      "Mean cross-validation training score (5-fold): 1.000\n"
     ]
    }
   ],
   "source": [
    "lasso = Lasso(alpha = 0.023,max_iter = 100000)\n",
    "lasso.fit(X_train, y_train)\n",
    "scores['Lasso']=[lasso.score(X_train, y_train),lasso.score(X_test,y_test)]\n",
    "\n",
    "# Cross Validation\n",
    "cv_scores = cross_val_score(lasso, X_train, y_train,cv = 5)\n",
    "print('Cross-validation training scores (5-fold):', cv_scores)\n",
    "print('Mean cross-validation training score (5-fold): {:.3f}'.format(np.mean(cv_scores)))\n",
    "cv_test_scores = cross_val_score(lasso, X_test, y_test,cv = 5)\n",
    "cv_s['Lasso']=[np.mean(cv_scores),np.mean(cv_test_scores)]"
   ]
  },
  {
   "cell_type": "code",
   "execution_count": 39,
   "metadata": {},
   "outputs": [
    {
     "name": "stdout",
     "output_type": "stream",
     "text": [
      "Polynomial LinearRegression\n",
      "Train score: 0.5392305009500179\n",
      "Test score: 0.4182252796934749\n",
      "\n",
      "Polynomial Ridge Regression\n",
      "Train score: 1.0\n",
      "Test score: 1.0\n",
      "\n",
      "Polynomial Lasso Regression\n",
      "Train score: 0.9997876138507856\n",
      "Test score: 0.9997529392692114\n"
     ]
    },
    {
     "name": "stderr",
     "output_type": "stream",
     "text": [
      "C:\\Users\\DELL\\anaconda3\\lib\\site-packages\\sklearn\\linear_model\\_ridge.py:147: LinAlgWarning: Ill-conditioned matrix (rcond=5.30427e-70): result may not be accurate.\n",
      "  return linalg.solve(A, Xy, sym_pos=True,\n",
      "C:\\Users\\DELL\\anaconda3\\lib\\site-packages\\sklearn\\linear_model\\_coordinate_descent.py:529: ConvergenceWarning: Objective did not converge. You might want to increase the number of iterations. Duality gap: 24201407.201271385, tolerance: 22788632.617451467\n",
      "  model = cd_fast.enet_coordinate_descent(\n"
     ]
    }
   ],
   "source": [
    "from sklearn.preprocessing import PolynomialFeatures\n",
    "poly = PolynomialFeatures(degree=3)\n",
    "X_poly = poly.fit_transform(X)\n",
    "X_train_py, X_test_py, y_train, y_test = train_test_split(X_poly, y, test_size = 0.2, random_state = 20)\n",
    "\n",
    "linreg = LinearRegression()\n",
    "linreg.fit(X_train_py, y_train)\n",
    "print('Polynomial LinearRegression')\n",
    "print('Train score: {}'.format(linreg.score(X_train_py, y_train)))\n",
    "print('Test score: {}\\n'.format(linreg.score(X_test_py,y_test)))\n",
    "scores['Polynomial deg 2 LinearRegression']=[linreg.score(X_train_py, y_train),linreg.score(X_test_py,y_test)]\n",
    "\n",
    "linridge = Ridge()\n",
    "linridge.fit(X_train_py, y_train)\n",
    "print('Polynomial Ridge Regression')\n",
    "print('Train score: {}'.format(linridge.score(X_train_py, y_train)))\n",
    "print('Test score: {}\\n'.format(linridge.score(X_test_py,y_test)))\n",
    "scores['Polynomial deg 2 Ridge Regression']=[linridge.score(X_train_py, y_train),linridge.score(X_test_py,y_test)]\n",
    "\n",
    "linlasso = Lasso()\n",
    "linlasso.fit(X_train_py, y_train)\n",
    "print('Polynomial Lasso Regression')\n",
    "print('Train score: {}'.format(linlasso.score(X_train_py, y_train)))\n",
    "print('Test score: {}'.format(linlasso.score(X_test_py,y_test)))\n",
    "scores['Polynomial deg 2 Lasso Regression']=[linlasso.score(X_train_py, y_train),linlasso.score(X_test_py,y_test)]"
   ]
  },
  {
   "cell_type": "code",
   "execution_count": 40,
   "metadata": {},
   "outputs": [
    {
     "name": "stdout",
     "output_type": "stream",
     "text": [
      "Cross-validation training scores (5-fold): [ 9.12971020e-01 -1.08087774e+03  7.38859440e-01  8.88364188e-01\n",
      "  8.04634444e-01]\n",
      "Mean cross-validation training score (5-fold): -215.507\n",
      "Cross-validation training scores (5-fold): [1. 1. 1. 1. 1.]\n",
      "Mean cross-validation training score (5-fold): 1.000\n"
     ]
    },
    {
     "name": "stderr",
     "output_type": "stream",
     "text": [
      "C:\\Users\\DELL\\anaconda3\\lib\\site-packages\\sklearn\\linear_model\\_ridge.py:147: LinAlgWarning: Ill-conditioned matrix (rcond=5.31112e-70): result may not be accurate.\n",
      "  return linalg.solve(A, Xy, sym_pos=True,\n",
      "C:\\Users\\DELL\\anaconda3\\lib\\site-packages\\sklearn\\linear_model\\_ridge.py:147: LinAlgWarning: Ill-conditioned matrix (rcond=7.10542e-68): result may not be accurate.\n",
      "  return linalg.solve(A, Xy, sym_pos=True,\n",
      "C:\\Users\\DELL\\anaconda3\\lib\\site-packages\\sklearn\\linear_model\\_ridge.py:147: LinAlgWarning: Ill-conditioned matrix (rcond=5.32497e-70): result may not be accurate.\n",
      "  return linalg.solve(A, Xy, sym_pos=True,\n",
      "C:\\Users\\DELL\\anaconda3\\lib\\site-packages\\sklearn\\linear_model\\_ridge.py:147: LinAlgWarning: Ill-conditioned matrix (rcond=5.3124e-70): result may not be accurate.\n",
      "  return linalg.solve(A, Xy, sym_pos=True,\n",
      "C:\\Users\\DELL\\anaconda3\\lib\\site-packages\\sklearn\\linear_model\\_ridge.py:147: LinAlgWarning: Ill-conditioned matrix (rcond=5.31266e-70): result may not be accurate.\n",
      "  return linalg.solve(A, Xy, sym_pos=True,\n",
      "C:\\Users\\DELL\\anaconda3\\lib\\site-packages\\sklearn\\linear_model\\_ridge.py:147: LinAlgWarning: Ill-conditioned matrix (rcond=1.58737e-67): result may not be accurate.\n",
      "  return linalg.solve(A, Xy, sym_pos=True,\n",
      "C:\\Users\\DELL\\anaconda3\\lib\\site-packages\\sklearn\\linear_model\\_ridge.py:147: LinAlgWarning: Ill-conditioned matrix (rcond=1.58022e-67): result may not be accurate.\n",
      "  return linalg.solve(A, Xy, sym_pos=True,\n",
      "C:\\Users\\DELL\\anaconda3\\lib\\site-packages\\sklearn\\linear_model\\_ridge.py:147: LinAlgWarning: Ill-conditioned matrix (rcond=1.64181e-67): result may not be accurate.\n",
      "  return linalg.solve(A, Xy, sym_pos=True,\n",
      "C:\\Users\\DELL\\anaconda3\\lib\\site-packages\\sklearn\\linear_model\\_ridge.py:147: LinAlgWarning: Ill-conditioned matrix (rcond=3.83747e-67): result may not be accurate.\n",
      "  return linalg.solve(A, Xy, sym_pos=True,\n",
      "C:\\Users\\DELL\\anaconda3\\lib\\site-packages\\sklearn\\linear_model\\_ridge.py:147: LinAlgWarning: Ill-conditioned matrix (rcond=1.95904e-67): result may not be accurate.\n",
      "  return linalg.solve(A, Xy, sym_pos=True,\n",
      "C:\\Users\\DELL\\anaconda3\\lib\\site-packages\\sklearn\\linear_model\\_coordinate_descent.py:529: ConvergenceWarning: Objective did not converge. You might want to increase the number of iterations. Duality gap: 18815278.307821885, tolerance: 17846304.978043173\n",
      "  model = cd_fast.enet_coordinate_descent(\n",
      "C:\\Users\\DELL\\anaconda3\\lib\\site-packages\\sklearn\\linear_model\\_coordinate_descent.py:529: ConvergenceWarning: Objective did not converge. You might want to increase the number of iterations. Duality gap: 18109128.211217083, tolerance: 17305808.298665103\n",
      "  model = cd_fast.enet_coordinate_descent(\n",
      "C:\\Users\\DELL\\anaconda3\\lib\\site-packages\\sklearn\\linear_model\\_coordinate_descent.py:529: ConvergenceWarning: Objective did not converge. You might want to increase the number of iterations. Duality gap: 20235243.1180248, tolerance: 19081845.19416207\n",
      "  model = cd_fast.enet_coordinate_descent(\n",
      "C:\\Users\\DELL\\anaconda3\\lib\\site-packages\\sklearn\\linear_model\\_coordinate_descent.py:529: ConvergenceWarning: Objective did not converge. You might want to increase the number of iterations. Duality gap: 19193522.48029143, tolerance: 17888365.996267382\n",
      "  model = cd_fast.enet_coordinate_descent(\n",
      "C:\\Users\\DELL\\anaconda3\\lib\\site-packages\\sklearn\\linear_model\\_coordinate_descent.py:529: ConvergenceWarning: Objective did not converge. You might want to increase the number of iterations. Duality gap: 20525881.11743409, tolerance: 19016954.94557195\n",
      "  model = cd_fast.enet_coordinate_descent(\n",
      "C:\\Users\\DELL\\anaconda3\\lib\\site-packages\\sklearn\\linear_model\\_coordinate_descent.py:529: ConvergenceWarning: Objective did not converge. You might want to increase the number of iterations. Duality gap: 4785161.80175979, tolerance: 4766725.226897715\n",
      "  model = cd_fast.enet_coordinate_descent(\n",
      "C:\\Users\\DELL\\anaconda3\\lib\\site-packages\\sklearn\\linear_model\\_coordinate_descent.py:529: ConvergenceWarning: Objective did not converge. You might want to increase the number of iterations. Duality gap: 5196639.011769102, tolerance: 5000746.120539862\n",
      "  model = cd_fast.enet_coordinate_descent(\n",
      "C:\\Users\\DELL\\anaconda3\\lib\\site-packages\\sklearn\\linear_model\\_coordinate_descent.py:529: ConvergenceWarning: Objective did not converge. You might want to increase the number of iterations. Duality gap: 4721519.016953564, tolerance: 4505028.877882317\n",
      "  model = cd_fast.enet_coordinate_descent(\n",
      "C:\\Users\\DELL\\anaconda3\\lib\\site-packages\\sklearn\\linear_model\\_coordinate_descent.py:529: ConvergenceWarning: Objective did not converge. You might want to increase the number of iterations. Duality gap: 4809775.09663499, tolerance: 4730817.122550668\n",
      "  model = cd_fast.enet_coordinate_descent(\n"
     ]
    },
    {
     "name": "stdout",
     "output_type": "stream",
     "text": [
      "Cross-validation training scores (5-fold): [0.9998517  0.99613265 0.9996388  0.99979938 0.99974814]\n",
      "Mean cross-validation training score (5-fold): 0.999\n"
     ]
    }
   ],
   "source": [
    "# Cross Validation\n",
    "cv_scores = cross_val_score(linreg, X_train_py, y_train,cv = 5)\n",
    "print('Cross-validation training scores (5-fold):', cv_scores)\n",
    "print('Mean cross-validation training score (5-fold): {:.3f}'.format(np.mean(cv_scores)))\n",
    "cv_test_scores = cross_val_score(linreg, X_test_py, y_test,cv = 5)\n",
    "cv_s['Polynomial deg 2 LinearRegression']=[np.mean(cv_scores),np.mean(cv_test_scores)]\n",
    "\n",
    "cv_scores = cross_val_score(linridge, X_train_py, y_train,cv = 5)\n",
    "print('Cross-validation training scores (5-fold):', cv_scores)\n",
    "print('Mean cross-validation training score (5-fold): {:.3f}'.format(np.mean(cv_scores)))\n",
    "cv_test_scores = cross_val_score(linridge, X_test_py, y_test,cv = 5)\n",
    "cv_s['Polynomial deg 2 Ridge Regression']=[np.mean(cv_scores),np.mean(cv_test_scores)]\n",
    "\n",
    "cv_scores = cross_val_score(linlasso, X_train_py, y_train,cv = 5)\n",
    "print('Cross-validation training scores (5-fold):', cv_scores)\n",
    "print('Mean cross-validation training score (5-fold): {:.3f}'.format(np.mean(cv_scores)))\n",
    "cv_test_scores = cross_val_score(linlasso, X_test_py, y_test,cv = 5)\n",
    "cv_s['Polynomial deg 2 Lasso Regression']=[np.mean(cv_scores),np.mean(cv_test_scores)]"
   ]
  },
  {
   "cell_type": "code",
   "execution_count": 41,
   "metadata": {},
   "outputs": [
    {
     "name": "stdout",
     "output_type": "stream",
     "text": [
      "Train score: -0.029616789591155657\n",
      "Test score: -0.024996999777163964\n",
      "\n",
      "Cross-validation training scores (5-fold): [-0.02704086 -0.06123174 -0.02604041 -0.04630751 -0.01222485]\n",
      "Mean cross-validation training score (5-fold): -0.035\n"
     ]
    }
   ],
   "source": [
    "from sklearn.svm import SVR\n",
    "# SVM, with kernel: (linear)\n",
    "svr = SVR(kernel = 'linear')\n",
    "svr.fit(X_train, y_train)\n",
    "print('Train score: {}'.format(svr.score(X_train, y_train)))\n",
    "print('Test score: {}\\n'.format(svr.score(X_test,y_test)))\n",
    "scores['SVM']=[svr.score(X_train, y_train),svr.score(X_test,y_test)]\n",
    "\n",
    "cv_scores = cross_val_score(svr, X_train, y_train,cv = 5)\n",
    "print('Cross-validation training scores (5-fold):', cv_scores)\n",
    "print('Mean cross-validation training score (5-fold): {:.3f}'.format(np.mean(cv_scores)))\n",
    "cv_test_scores = cross_val_score(svr, X_test, y_test,cv = 5)\n",
    "cv_s['SVM']=[np.mean(cv_scores),np.mean(cv_test_scores)]"
   ]
  },
  {
   "cell_type": "code",
   "execution_count": null,
   "metadata": {},
   "outputs": [],
   "source": []
  },
  {
   "cell_type": "code",
   "execution_count": 42,
   "metadata": {},
   "outputs": [
    {
     "name": "stdout",
     "output_type": "stream",
     "text": [
      "Train score: -0.47739993163827266\n",
      "Test score: -0.4660884791514932\n",
      "\n",
      "Cross-validation training scores (5-fold): [-0.46051446 -0.51379252 -0.55381499 -0.51281525 -0.49992738]\n",
      "Mean cross-validation training score (5-fold): -0.508\n"
     ]
    }
   ],
   "source": [
    "# SVR without kernel\n",
    "from sklearn.svm import LinearSVR\n",
    "lsvr = LinearSVR()\n",
    "lsvr.fit(X_train, y_train)\n",
    "print('Train score: {}'.format(lsvr.score(X_train, y_train)))\n",
    "print('Test score: {}\\n'.format(lsvr.score(X_test,y_test)))\n",
    "scores['SVM without kernel']=[lsvr.score(X_train, y_train),lsvr.score(X_test,y_test)]\n",
    "\n",
    "# Cross Validation\n",
    "cv_scores = cross_val_score(lsvr, X_train, y_train,cv = 5)\n",
    "print('Cross-validation training scores (5-fold):', cv_scores)\n",
    "print('Mean cross-validation training score (5-fold): {:.3f}'.format(np.mean(cv_scores)))\n",
    "cv_test_scores = cross_val_score(lsvr, X_test, y_test,cv = 5)\n",
    "cv_s['SVM without kernel']=[np.mean(cv_scores),np.mean(cv_test_scores)]"
   ]
  },
  {
   "cell_type": "code",
   "execution_count": 43,
   "metadata": {},
   "outputs": [
    {
     "data": {
      "text/html": [
       "<div>\n",
       "<style scoped>\n",
       "    .dataframe tbody tr th:only-of-type {\n",
       "        vertical-align: middle;\n",
       "    }\n",
       "\n",
       "    .dataframe tbody tr th {\n",
       "        vertical-align: top;\n",
       "    }\n",
       "\n",
       "    .dataframe thead th {\n",
       "        text-align: right;\n",
       "    }\n",
       "</style>\n",
       "<table border=\"1\" class=\"dataframe\">\n",
       "  <thead>\n",
       "    <tr style=\"text-align: right;\">\n",
       "      <th></th>\n",
       "      <th>Train Score</th>\n",
       "      <th>Test Score</th>\n",
       "      <th>(Cross_Validation_Train_Score,)</th>\n",
       "      <th>(Cross_Validation_Test_Score,)</th>\n",
       "    </tr>\n",
       "  </thead>\n",
       "  <tbody>\n",
       "    <tr>\n",
       "      <th>K-neighbors regression</th>\n",
       "      <td>0.999644</td>\n",
       "      <td>0.999537</td>\n",
       "      <td>0.999117</td>\n",
       "      <td>0.997454</td>\n",
       "    </tr>\n",
       "    <tr>\n",
       "      <th>LinearRegression</th>\n",
       "      <td>1.000000</td>\n",
       "      <td>1.000000</td>\n",
       "      <td>1.000000</td>\n",
       "      <td>1.000000</td>\n",
       "    </tr>\n",
       "    <tr>\n",
       "      <th>Ridge</th>\n",
       "      <td>1.000000</td>\n",
       "      <td>1.000000</td>\n",
       "      <td>0.999999</td>\n",
       "      <td>0.999985</td>\n",
       "    </tr>\n",
       "    <tr>\n",
       "      <th>Lasso</th>\n",
       "      <td>0.999980</td>\n",
       "      <td>0.999976</td>\n",
       "      <td>0.999972</td>\n",
       "      <td>0.999958</td>\n",
       "    </tr>\n",
       "    <tr>\n",
       "      <th>Polynomial deg 2 LinearRegression</th>\n",
       "      <td>0.539231</td>\n",
       "      <td>0.418225</td>\n",
       "      <td>-215.506583</td>\n",
       "      <td>0.806509</td>\n",
       "    </tr>\n",
       "    <tr>\n",
       "      <th>Polynomial deg 2 Ridge Regression</th>\n",
       "      <td>1.000000</td>\n",
       "      <td>1.000000</td>\n",
       "      <td>1.000000</td>\n",
       "      <td>1.000000</td>\n",
       "    </tr>\n",
       "    <tr>\n",
       "      <th>Polynomial deg 2 Lasso Regression</th>\n",
       "      <td>0.999788</td>\n",
       "      <td>0.999753</td>\n",
       "      <td>0.999034</td>\n",
       "      <td>0.999480</td>\n",
       "    </tr>\n",
       "    <tr>\n",
       "      <th>SVM</th>\n",
       "      <td>-0.029617</td>\n",
       "      <td>-0.024997</td>\n",
       "      <td>-0.034569</td>\n",
       "      <td>-0.049605</td>\n",
       "    </tr>\n",
       "    <tr>\n",
       "      <th>SVM without kernel</th>\n",
       "      <td>-0.477400</td>\n",
       "      <td>-0.466088</td>\n",
       "      <td>-0.508173</td>\n",
       "      <td>-0.633814</td>\n",
       "    </tr>\n",
       "    <tr>\n",
       "      <th>Polynomial deg 3 LinearRegression</th>\n",
       "      <td>0.539231</td>\n",
       "      <td>0.418225</td>\n",
       "      <td>-215.506583</td>\n",
       "      <td>0.806509</td>\n",
       "    </tr>\n",
       "    <tr>\n",
       "      <th>Polynomial deg 3 Ridge Regression</th>\n",
       "      <td>1.000000</td>\n",
       "      <td>1.000000</td>\n",
       "      <td>1.000000</td>\n",
       "      <td>1.000000</td>\n",
       "    </tr>\n",
       "    <tr>\n",
       "      <th>Polynomial deg 3 Lasso Regression</th>\n",
       "      <td>0.999788</td>\n",
       "      <td>0.999753</td>\n",
       "      <td>0.999034</td>\n",
       "      <td>0.999480</td>\n",
       "    </tr>\n",
       "  </tbody>\n",
       "</table>\n",
       "</div>"
      ],
      "text/plain": [
       "                                   Train Score  Test Score  \\\n",
       "K-neighbors regression                0.999644    0.999537   \n",
       "LinearRegression                      1.000000    1.000000   \n",
       "Ridge                                 1.000000    1.000000   \n",
       "Lasso                                 0.999980    0.999976   \n",
       "Polynomial deg 2 LinearRegression     0.539231    0.418225   \n",
       "Polynomial deg 2 Ridge Regression     1.000000    1.000000   \n",
       "Polynomial deg 2 Lasso Regression     0.999788    0.999753   \n",
       "SVM                                  -0.029617   -0.024997   \n",
       "SVM without kernel                   -0.477400   -0.466088   \n",
       "Polynomial deg 3 LinearRegression     0.539231    0.418225   \n",
       "Polynomial deg 3 Ridge Regression     1.000000    1.000000   \n",
       "Polynomial deg 3 Lasso Regression     0.999788    0.999753   \n",
       "\n",
       "                                   (Cross_Validation_Train_Score,)  \\\n",
       "K-neighbors regression                                    0.999117   \n",
       "LinearRegression                                          1.000000   \n",
       "Ridge                                                     0.999999   \n",
       "Lasso                                                     0.999972   \n",
       "Polynomial deg 2 LinearRegression                      -215.506583   \n",
       "Polynomial deg 2 Ridge Regression                         1.000000   \n",
       "Polynomial deg 2 Lasso Regression                         0.999034   \n",
       "SVM                                                      -0.034569   \n",
       "SVM without kernel                                       -0.508173   \n",
       "Polynomial deg 3 LinearRegression                      -215.506583   \n",
       "Polynomial deg 3 Ridge Regression                         1.000000   \n",
       "Polynomial deg 3 Lasso Regression                         0.999034   \n",
       "\n",
       "                                   (Cross_Validation_Test_Score,)  \n",
       "K-neighbors regression                                   0.997454  \n",
       "LinearRegression                                         1.000000  \n",
       "Ridge                                                    0.999985  \n",
       "Lasso                                                    0.999958  \n",
       "Polynomial deg 2 LinearRegression                        0.806509  \n",
       "Polynomial deg 2 Ridge Regression                        1.000000  \n",
       "Polynomial deg 2 Lasso Regression                        0.999480  \n",
       "SVM                                                     -0.049605  \n",
       "SVM without kernel                                      -0.633814  \n",
       "Polynomial deg 3 LinearRegression                        0.806509  \n",
       "Polynomial deg 3 Ridge Regression                        1.000000  \n",
       "Polynomial deg 3 Lasso Regression                        0.999480  "
      ]
     },
     "execution_count": 43,
     "metadata": {},
     "output_type": "execute_result"
    }
   ],
   "source": [
    "df = pd.DataFrame(scores).T\n",
    "df.columns = ['Train Score','Test Score']\n",
    "df = pd.concat([df,pd.DataFrame(cv_s,index = [['Cross_Validation_Train_Score','Cross_Validation_Test_Score']]).T],axis=1, join='inner')\n",
    "df"
   ]
  },
  {
   "cell_type": "code",
   "execution_count": null,
   "metadata": {},
   "outputs": [],
   "source": []
  }
 ],
 "metadata": {
  "kernelspec": {
   "display_name": "Python 3",
   "language": "python",
   "name": "python3"
  },
  "language_info": {
   "codemirror_mode": {
    "name": "ipython",
    "version": 3
   },
   "file_extension": ".py",
   "mimetype": "text/x-python",
   "name": "python",
   "nbconvert_exporter": "python",
   "pygments_lexer": "ipython3",
   "version": "3.8.5"
  }
 },
 "nbformat": 4,
 "nbformat_minor": 4
}
