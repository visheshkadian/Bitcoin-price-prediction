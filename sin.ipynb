{
  "nbformat": 4,
  "nbformat_minor": 0,
  "metadata": {
    "colab": {
      "name": "sin.ipynb",
      "provenance": [],
      "collapsed_sections": [],
      "authorship_tag": "ABX9TyPU0aa1TshlCk8RlklLXQR4",
      "include_colab_link": true
    },
    "kernelspec": {
      "name": "python3",
      "display_name": "Python 3"
    },
    "language_info": {
      "name": "python"
    }
  },
  "cells": [
    {
      "cell_type": "markdown",
      "metadata": {
        "id": "view-in-github",
        "colab_type": "text"
      },
      "source": [
        "<a href=\"https://colab.research.google.com/github/visheshkadian/Bitcoin-price-prediction/blob/master/sin.ipynb\" target=\"_parent\"><img src=\"https://colab.research.google.com/assets/colab-badge.svg\" alt=\"Open In Colab\"/></a>"
      ]
    },
    {
      "cell_type": "code",
      "metadata": {
        "id": "aI9XS9lP0lgF"
      },
      "source": [
        "import numpy as np \n",
        "import pandas as pd"
      ],
      "execution_count": null,
      "outputs": []
    },
    {
      "cell_type": "code",
      "metadata": {
        "colab": {
          "resources": {
            "http://localhost:8080/nbextensions/google.colab/files.js": {
              "data": "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",
              "ok": true,
              "headers": [
                [
                  "content-type",
                  "application/javascript"
                ]
              ],
              "status": 200,
              "status_text": ""
            }
          },
          "base_uri": "https://localhost:8080/",
          "height": 73
        },
        "id": "m2OMVcI-0psw",
        "outputId": "bdc982a5-3597-45f2-8f79-03bd440c3267"
      },
      "source": [
        ""
      ],
      "execution_count": null,
      "outputs": [
        {
          "output_type": "display_data",
          "data": {
            "text/html": [
              "\n",
              "     <input type=\"file\" id=\"files-2ccb684b-5f02-48a5-9d9c-68023589af8d\" name=\"files[]\" multiple disabled\n",
              "        style=\"border:none\" />\n",
              "     <output id=\"result-2ccb684b-5f02-48a5-9d9c-68023589af8d\">\n",
              "      Upload widget is only available when the cell has been executed in the\n",
              "      current browser session. Please rerun this cell to enable.\n",
              "      </output>\n",
              "      <script src=\"/nbextensions/google.colab/files.js\"></script> "
            ],
            "text/plain": [
              "<IPython.core.display.HTML object>"
            ]
          },
          "metadata": {
            "tags": []
          }
        },
        {
          "output_type": "stream",
          "text": [
            "Saving bitcoin3.csv to bitcoin3.csv\n"
          ],
          "name": "stdout"
        }
      ]
    },
    {
      "cell_type": "code",
      "metadata": {
        "colab": {
          "base_uri": "https://localhost:8080/",
          "height": 254
        },
        "id": "tj9O8eyz1m7N",
        "outputId": "89bd2ab1-07af-4d26-9e1b-4e49d681480e"
      },
      "source": [
        "#Store the data into the variable df\n",
        "df = pd.read_csv('bitcoin3.csv')\n",
        "df.head(7)"
      ],
      "execution_count": null,
      "outputs": [
        {
          "output_type": "execute_result",
          "data": {
            "text/html": [
              "<div>\n",
              "<style scoped>\n",
              "    .dataframe tbody tr th:only-of-type {\n",
              "        vertical-align: middle;\n",
              "    }\n",
              "\n",
              "    .dataframe tbody tr th {\n",
              "        vertical-align: top;\n",
              "    }\n",
              "\n",
              "    .dataframe thead th {\n",
              "        text-align: right;\n",
              "    }\n",
              "</style>\n",
              "<table border=\"1\" class=\"dataframe\">\n",
              "  <thead>\n",
              "    <tr style=\"text-align: right;\">\n",
              "      <th></th>\n",
              "      <th>Timestamp</th>\n",
              "      <th>market-price</th>\n",
              "    </tr>\n",
              "  </thead>\n",
              "  <tbody>\n",
              "    <tr>\n",
              "      <th>0</th>\n",
              "      <td>2020-10-16 00:00:00</td>\n",
              "      <td>11503.73</td>\n",
              "    </tr>\n",
              "    <tr>\n",
              "      <th>1</th>\n",
              "      <td>2020-10-17 00:00:00</td>\n",
              "      <td>11327.57</td>\n",
              "    </tr>\n",
              "    <tr>\n",
              "      <th>2</th>\n",
              "      <td>2020-10-18 00:00:00</td>\n",
              "      <td>11366.51</td>\n",
              "    </tr>\n",
              "    <tr>\n",
              "      <th>3</th>\n",
              "      <td>2020-10-19 00:00:00</td>\n",
              "      <td>11508.20</td>\n",
              "    </tr>\n",
              "    <tr>\n",
              "      <th>4</th>\n",
              "      <td>2020-10-20 00:00:00</td>\n",
              "      <td>11758.16</td>\n",
              "    </tr>\n",
              "    <tr>\n",
              "      <th>5</th>\n",
              "      <td>2020-10-21 00:00:00</td>\n",
              "      <td>11925.46</td>\n",
              "    </tr>\n",
              "    <tr>\n",
              "      <th>6</th>\n",
              "      <td>2020-10-22 00:00:00</td>\n",
              "      <td>12831.56</td>\n",
              "    </tr>\n",
              "  </tbody>\n",
              "</table>\n",
              "</div>"
            ],
            "text/plain": [
              "             Timestamp  market-price\n",
              "0  2020-10-16 00:00:00      11503.73\n",
              "1  2020-10-17 00:00:00      11327.57\n",
              "2  2020-10-18 00:00:00      11366.51\n",
              "3  2020-10-19 00:00:00      11508.20\n",
              "4  2020-10-20 00:00:00      11758.16\n",
              "5  2020-10-21 00:00:00      11925.46\n",
              "6  2020-10-22 00:00:00      12831.56"
            ]
          },
          "metadata": {
            "tags": []
          },
          "execution_count": 51
        }
      ]
    },
    {
      "cell_type": "code",
      "metadata": {
        "id": "sskRz8fA2Jp9"
      },
      "source": [
        "#Remove the Date column\n",
        "df.drop(['Timestamp'], 1, inplace=True)"
      ],
      "execution_count": null,
      "outputs": []
    },
    {
      "cell_type": "code",
      "metadata": {
        "colab": {
          "base_uri": "https://localhost:8080/",
          "height": 254
        },
        "id": "pJG5mGjU2WRT",
        "outputId": "f436e31d-c246-46ca-a05e-7a22b2af7f58"
      },
      "source": [
        "#Show the first 7 rows of the new data set\n",
        "df.head(7)"
      ],
      "execution_count": null,
      "outputs": [
        {
          "output_type": "execute_result",
          "data": {
            "text/html": [
              "<div>\n",
              "<style scoped>\n",
              "    .dataframe tbody tr th:only-of-type {\n",
              "        vertical-align: middle;\n",
              "    }\n",
              "\n",
              "    .dataframe tbody tr th {\n",
              "        vertical-align: top;\n",
              "    }\n",
              "\n",
              "    .dataframe thead th {\n",
              "        text-align: right;\n",
              "    }\n",
              "</style>\n",
              "<table border=\"1\" class=\"dataframe\">\n",
              "  <thead>\n",
              "    <tr style=\"text-align: right;\">\n",
              "      <th></th>\n",
              "      <th>market-price</th>\n",
              "    </tr>\n",
              "  </thead>\n",
              "  <tbody>\n",
              "    <tr>\n",
              "      <th>0</th>\n",
              "      <td>11503.73</td>\n",
              "    </tr>\n",
              "    <tr>\n",
              "      <th>1</th>\n",
              "      <td>11327.57</td>\n",
              "    </tr>\n",
              "    <tr>\n",
              "      <th>2</th>\n",
              "      <td>11366.51</td>\n",
              "    </tr>\n",
              "    <tr>\n",
              "      <th>3</th>\n",
              "      <td>11508.20</td>\n",
              "    </tr>\n",
              "    <tr>\n",
              "      <th>4</th>\n",
              "      <td>11758.16</td>\n",
              "    </tr>\n",
              "    <tr>\n",
              "      <th>5</th>\n",
              "      <td>11925.46</td>\n",
              "    </tr>\n",
              "    <tr>\n",
              "      <th>6</th>\n",
              "      <td>12831.56</td>\n",
              "    </tr>\n",
              "  </tbody>\n",
              "</table>\n",
              "</div>"
            ],
            "text/plain": [
              "   market-price\n",
              "0      11503.73\n",
              "1      11327.57\n",
              "2      11366.51\n",
              "3      11508.20\n",
              "4      11758.16\n",
              "5      11925.46\n",
              "6      12831.56"
            ]
          },
          "metadata": {
            "tags": []
          },
          "execution_count": 53
        }
      ]
    },
    {
      "cell_type": "code",
      "metadata": {
        "id": "kJq5q1Cr212S"
      },
      "source": [
        "#A variable for predicting 'n' days out into the future\n",
        "prediction_days = 30 #n = 30 days\n",
        "\n",
        "#Create another column (the target or dependent variable) shifted 'n' units up\n",
        "df['Prediction'] = df[['market-price']].shift(-prediction_days)"
      ],
      "execution_count": null,
      "outputs": []
    },
    {
      "cell_type": "code",
      "metadata": {
        "colab": {
          "base_uri": "https://localhost:8080/",
          "height": 343
        },
        "id": "x5qekXUh29dc",
        "outputId": "335dc96e-f724-4bf3-bb4e-76ffdaac478e"
      },
      "source": [
        "df.head(10)"
      ],
      "execution_count": null,
      "outputs": [
        {
          "output_type": "execute_result",
          "data": {
            "text/html": [
              "<div>\n",
              "<style scoped>\n",
              "    .dataframe tbody tr th:only-of-type {\n",
              "        vertical-align: middle;\n",
              "    }\n",
              "\n",
              "    .dataframe tbody tr th {\n",
              "        vertical-align: top;\n",
              "    }\n",
              "\n",
              "    .dataframe thead th {\n",
              "        text-align: right;\n",
              "    }\n",
              "</style>\n",
              "<table border=\"1\" class=\"dataframe\">\n",
              "  <thead>\n",
              "    <tr style=\"text-align: right;\">\n",
              "      <th></th>\n",
              "      <th>market-price</th>\n",
              "      <th>Prediction</th>\n",
              "    </tr>\n",
              "  </thead>\n",
              "  <tbody>\n",
              "    <tr>\n",
              "      <th>0</th>\n",
              "      <td>11503.73</td>\n",
              "      <td>16091.07</td>\n",
              "    </tr>\n",
              "    <tr>\n",
              "      <th>1</th>\n",
              "      <td>11327.57</td>\n",
              "      <td>15968.16</td>\n",
              "    </tr>\n",
              "    <tr>\n",
              "      <th>2</th>\n",
              "      <td>11366.51</td>\n",
              "      <td>16725.15</td>\n",
              "    </tr>\n",
              "    <tr>\n",
              "      <th>3</th>\n",
              "      <td>11508.20</td>\n",
              "      <td>17679.72</td>\n",
              "    </tr>\n",
              "    <tr>\n",
              "      <th>4</th>\n",
              "      <td>11758.16</td>\n",
              "      <td>17798.45</td>\n",
              "    </tr>\n",
              "    <tr>\n",
              "      <th>5</th>\n",
              "      <td>11925.46</td>\n",
              "      <td>17820.57</td>\n",
              "    </tr>\n",
              "    <tr>\n",
              "      <th>6</th>\n",
              "      <td>12831.56</td>\n",
              "      <td>18687.45</td>\n",
              "    </tr>\n",
              "    <tr>\n",
              "      <th>7</th>\n",
              "      <td>12990.25</td>\n",
              "      <td>18699.75</td>\n",
              "    </tr>\n",
              "    <tr>\n",
              "      <th>8</th>\n",
              "      <td>12944.52</td>\n",
              "      <td>18422.28</td>\n",
              "    </tr>\n",
              "    <tr>\n",
              "      <th>9</th>\n",
              "      <td>13128.46</td>\n",
              "      <td>18398.91</td>\n",
              "    </tr>\n",
              "  </tbody>\n",
              "</table>\n",
              "</div>"
            ],
            "text/plain": [
              "   market-price  Prediction\n",
              "0      11503.73    16091.07\n",
              "1      11327.57    15968.16\n",
              "2      11366.51    16725.15\n",
              "3      11508.20    17679.72\n",
              "4      11758.16    17798.45\n",
              "5      11925.46    17820.57\n",
              "6      12831.56    18687.45\n",
              "7      12990.25    18699.75\n",
              "8      12944.52    18422.28\n",
              "9      13128.46    18398.91"
            ]
          },
          "metadata": {
            "tags": []
          },
          "execution_count": 40
        }
      ]
    },
    {
      "cell_type": "code",
      "metadata": {
        "colab": {
          "base_uri": "https://localhost:8080/",
          "height": 254
        },
        "id": "dI6bCrMD3TQI",
        "outputId": "57052c4f-adc9-4a20-fd65-32be1a12a339"
      },
      "source": [
        "df.tail(7)"
      ],
      "execution_count": null,
      "outputs": [
        {
          "output_type": "execute_result",
          "data": {
            "text/html": [
              "<div>\n",
              "<style scoped>\n",
              "    .dataframe tbody tr th:only-of-type {\n",
              "        vertical-align: middle;\n",
              "    }\n",
              "\n",
              "    .dataframe tbody tr th {\n",
              "        vertical-align: top;\n",
              "    }\n",
              "\n",
              "    .dataframe thead th {\n",
              "        text-align: right;\n",
              "    }\n",
              "</style>\n",
              "<table border=\"1\" class=\"dataframe\">\n",
              "  <thead>\n",
              "    <tr style=\"text-align: right;\">\n",
              "      <th></th>\n",
              "      <th>market-price</th>\n",
              "      <th>Prediction</th>\n",
              "    </tr>\n",
              "  </thead>\n",
              "  <tbody>\n",
              "    <tr>\n",
              "      <th>174</th>\n",
              "      <td>55947.27</td>\n",
              "      <td>NaN</td>\n",
              "    </tr>\n",
              "    <tr>\n",
              "      <th>175</th>\n",
              "      <td>58048.59</td>\n",
              "      <td>NaN</td>\n",
              "    </tr>\n",
              "    <tr>\n",
              "      <th>176</th>\n",
              "      <td>58102.58</td>\n",
              "      <td>NaN</td>\n",
              "    </tr>\n",
              "    <tr>\n",
              "      <th>177</th>\n",
              "      <td>59774.00</td>\n",
              "      <td>NaN</td>\n",
              "    </tr>\n",
              "    <tr>\n",
              "      <th>178</th>\n",
              "      <td>59964.87</td>\n",
              "      <td>NaN</td>\n",
              "    </tr>\n",
              "    <tr>\n",
              "      <th>179</th>\n",
              "      <td>59834.74</td>\n",
              "      <td>NaN</td>\n",
              "    </tr>\n",
              "    <tr>\n",
              "      <th>180</th>\n",
              "      <td>63554.44</td>\n",
              "      <td>NaN</td>\n",
              "    </tr>\n",
              "  </tbody>\n",
              "</table>\n",
              "</div>"
            ],
            "text/plain": [
              "     market-price  Prediction\n",
              "174      55947.27         NaN\n",
              "175      58048.59         NaN\n",
              "176      58102.58         NaN\n",
              "177      59774.00         NaN\n",
              "178      59964.87         NaN\n",
              "179      59834.74         NaN\n",
              "180      63554.44         NaN"
            ]
          },
          "metadata": {
            "tags": []
          },
          "execution_count": 41
        }
      ]
    },
    {
      "cell_type": "code",
      "metadata": {
        "id": "rzKARCNg4PqH",
        "colab": {
          "base_uri": "https://localhost:8080/"
        },
        "outputId": "dcbdc93e-482d-43f2-bd13-9fa18751cba1"
      },
      "source": [
        "#CREATE THE INDEPENDENT DATA SET (X)\n",
        "\n",
        "# Convert the dataframe to a numpy array and drop the prediction column\n",
        "X = np.array(df.drop(['Prediction'],1))\n",
        "\n",
        "#Remove the last 'n' rows where 'n' is the prediction_days\n",
        "X= X[:len(df)-prediction_days]\n",
        "print(X)"
      ],
      "execution_count": null,
      "outputs": [
        {
          "output_type": "stream",
          "text": [
            "[[11503.73]\n",
            " [11327.57]\n",
            " [11366.51]\n",
            " [11508.2 ]\n",
            " [11758.16]\n",
            " [11925.46]\n",
            " [12831.56]\n",
            " [12990.25]\n",
            " [12944.52]\n",
            " [13128.46]\n",
            " [13036.77]\n",
            " [13076.37]\n",
            " [13651.47]\n",
            " [13289.  ]\n",
            " [13458.66]\n",
            " [13564.72]\n",
            " [13810.32]\n",
            " [13758.88]\n",
            " [13575.17]\n",
            " [14023.31]\n",
            " [14155.59]\n",
            " [15591.39]\n",
            " [15595.77]\n",
            " [14839.84]\n",
            " [15490.6 ]\n",
            " [15328.53]\n",
            " [15317.04]\n",
            " [15708.65]\n",
            " [16295.57]\n",
            " [16339.33]\n",
            " [16091.07]\n",
            " [15968.16]\n",
            " [16725.15]\n",
            " [17679.72]\n",
            " [17798.45]\n",
            " [17820.57]\n",
            " [18687.45]\n",
            " [18699.75]\n",
            " [18422.28]\n",
            " [18398.91]\n",
            " [19172.52]\n",
            " [18739.8 ]\n",
            " [17151.44]\n",
            " [17138.87]\n",
            " [17732.42]\n",
            " [18191.6 ]\n",
            " [19709.73]\n",
            " [18792.52]\n",
            " [19226.97]\n",
            " [19454.54]\n",
            " [18670.49]\n",
            " [19155.06]\n",
            " [19377.66]\n",
            " [19181.41]\n",
            " [18318.87]\n",
            " [18554.15]\n",
            " [18247.76]\n",
            " [18029.36]\n",
            " [18803.44]\n",
            " [19164.48]\n",
            " [19276.59]\n",
            " [19439.75]\n",
            " [21379.48]\n",
            " [22847.46]\n",
            " [23150.79]\n",
            " [23869.92]\n",
            " [23490.58]\n",
            " [22745.48]\n",
            " [23824.99]\n",
            " [23253.37]\n",
            " [23715.53]\n",
            " [24693.58]\n",
            " [26443.21]\n",
            " [26246.58]\n",
            " [27036.69]\n",
            " [27376.37]\n",
            " [28856.59]\n",
            " [28982.56]\n",
            " [29393.75]\n",
            " [32195.46]\n",
            " [33000.78]\n",
            " [32035.03]\n",
            " [34046.67]\n",
            " [36860.41]\n",
            " [39486.04]\n",
            " [40670.25]\n",
            " [40240.72]\n",
            " [38240.09]\n",
            " [35544.94]\n",
            " [34011.82]\n",
            " [37393.13]\n",
            " [39158.47]\n",
            " [36828.52]\n",
            " [36065.2 ]\n",
            " [35793.01]\n",
            " [36632.35]\n",
            " [36020.13]\n",
            " [35538.98]\n",
            " [30797.88]\n",
            " [33002.38]\n",
            " [32099.74]\n",
            " [32276.84]\n",
            " [32243.26]\n",
            " [32541.8 ]\n",
            " [30419.17]\n",
            " [33403.17]\n",
            " [34314.26]\n",
            " [34318.1 ]\n",
            " [33136.46]\n",
            " [33522.9 ]\n",
            " [35529.66]\n",
            " [37676.25]\n",
            " [37002.09]\n",
            " [38278.61]\n",
            " [39323.26]\n",
            " [38928.1 ]\n",
            " [46364.3 ]\n",
            " [46589.58]\n",
            " [44878.17]\n",
            " [48013.38]\n",
            " [47471.4 ]\n",
            " [47185.19]\n",
            " [48720.37]\n",
            " [47951.85]\n",
            " [49160.1 ]\n",
            " [52118.23]\n",
            " [51608.15]\n",
            " [55916.5 ]\n",
            " [56001.2 ]\n",
            " [57487.86]\n",
            " [54123.4 ]\n",
            " [48880.43]\n",
            " [50624.84]\n",
            " [46800.42]\n",
            " [46340.31]\n",
            " [46155.87]\n",
            " [45113.92]\n",
            " [49618.43]\n",
            " [48356.04]\n",
            " [50477.7 ]\n",
            " [48448.91]\n",
            " [48861.38]\n",
            " [48881.59]\n",
            " [51169.7 ]\n",
            " [52299.33]\n",
            " [54881.52]\n",
            " [55997.23]\n",
            " [57764.  ]\n",
            " [57253.28]\n",
            " [61258.73]\n",
            " [59133.47]]\n"
          ],
          "name": "stdout"
        }
      ]
    },
    {
      "cell_type": "code",
      "metadata": {
        "colab": {
          "base_uri": "https://localhost:8080/"
        },
        "id": "dKmUXAKd9QSK",
        "outputId": "cbbebf5a-7730-4408-f217-1ecf0c0ddcbb"
      },
      "source": [
        "#CREATE THE DEPENDENT DATA SET (y) \n",
        "# Convert the dataframe to a numpy array (All of the values including the NaN's) y = np.array(df['Prediction'])  \n",
        "y=np.array(df['Prediction'])\n",
        "# Get all of the y values except the last 'n' rows \n",
        "y = y[:-prediction_days] \n",
        "print(y)"
      ],
      "execution_count": null,
      "outputs": [
        {
          "output_type": "stream",
          "text": [
            "[16091.07 15968.16 16725.15 17679.72 17798.45 17820.57 18687.45 18699.75\n",
            " 18422.28 18398.91 19172.52 18739.8  17151.44 17138.87 17732.42 18191.6\n",
            " 19709.73 18792.52 19226.97 19454.54 18670.49 19155.06 19377.66 19181.41\n",
            " 18318.87 18554.15 18247.76 18029.36 18803.44 19164.48 19276.59 19439.75\n",
            " 21379.48 22847.46 23150.79 23869.92 23490.58 22745.48 23824.99 23253.37\n",
            " 23715.53 24693.58 26443.21 26246.58 27036.69 27376.37 28856.59 28982.56\n",
            " 29393.75 32195.46 33000.78 32035.03 34046.67 36860.41 39486.04 40670.25\n",
            " 40240.72 38240.09 35544.94 34011.82 37393.13 39158.47 36828.52 36065.2\n",
            " 35793.01 36632.35 36020.13 35538.98 30797.88 33002.38 32099.74 32276.84\n",
            " 32243.26 32541.8  30419.17 33403.17 34314.26 34318.1  33136.46 33522.9\n",
            " 35529.66 37676.25 37002.09 38278.61 39323.26 38928.1  46364.3  46589.58\n",
            " 44878.17 48013.38 47471.4  47185.19 48720.37 47951.85 49160.1  52118.23\n",
            " 51608.15 55916.5  56001.2  57487.86 54123.4  48880.43 50624.84 46800.42\n",
            " 46340.31 46155.87 45113.92 49618.43 48356.04 50477.7  48448.91 48861.38\n",
            " 48881.59 51169.7  52299.33 54881.52 55997.23 57764.   57253.28 61258.73\n",
            " 59133.47 55754.72 56872.38 58913.   57665.9  58075.1  58085.8  57411.17\n",
            " 54204.96 54477.46 52508.23 51415.92 55074.47 55863.93 55783.71 57627.67\n",
            " 58730.13 58735.25 58736.92 59031.32 57076.49 58206.55 59054.1  58020.46\n",
            " 55947.27 58048.59 58102.58 59774.   59964.87 59834.74 63554.44]\n"
          ],
          "name": "stdout"
        }
      ]
    },
    {
      "cell_type": "code",
      "metadata": {
        "id": "q-QcoeuF-smS"
      },
      "source": [
        "from sklearn.model_selection import train_test_split\n",
        "x_train, x_test, y_train, y_test = train_test_split(X, y, test_size=0.2)"
      ],
      "execution_count": null,
      "outputs": []
    },
    {
      "cell_type": "code",
      "metadata": {
        "colab": {
          "base_uri": "https://localhost:8080/"
        },
        "id": "GPXMDIef-uSn",
        "outputId": "c51a756e-4a1f-4175-9e8d-c887eadbf393"
      },
      "source": [
        "# Set prediction_days_array equal to the last 30 rows of the original data set from the price column\n",
        "prediction_days_array = np.array(df.drop(['Prediction'],1))[-prediction_days:]\n",
        "print(prediction_days_array)\n"
      ],
      "execution_count": null,
      "outputs": [
        {
          "output_type": "stream",
          "text": [
            "[[55754.72]\n",
            " [56872.38]\n",
            " [58913.  ]\n",
            " [57665.9 ]\n",
            " [58075.1 ]\n",
            " [58085.8 ]\n",
            " [57411.17]\n",
            " [54204.96]\n",
            " [54477.46]\n",
            " [52508.23]\n",
            " [51415.92]\n",
            " [55074.47]\n",
            " [55863.93]\n",
            " [55783.71]\n",
            " [57627.67]\n",
            " [58730.13]\n",
            " [58735.25]\n",
            " [58736.92]\n",
            " [59031.32]\n",
            " [57076.49]\n",
            " [58206.55]\n",
            " [59054.1 ]\n",
            " [58020.46]\n",
            " [55947.27]\n",
            " [58048.59]\n",
            " [58102.58]\n",
            " [59774.  ]\n",
            " [59964.87]\n",
            " [59834.74]\n",
            " [63554.44]]\n"
          ],
          "name": "stdout"
        }
      ]
    },
    {
      "cell_type": "code",
      "metadata": {
        "colab": {
          "base_uri": "https://localhost:8080/"
        },
        "id": "lv7hOt99_RDD",
        "outputId": "77b4b40c-5f87-466e-9ec9-5bd2f922b817"
      },
      "source": [
        "from sklearn.svm import SVR\n",
        "# Create and train the Support Vector Machine \n",
        "svr_rbf = SVR(kernel='rbf', C=1e3, gamma=0.00001)#Create the model\n",
        "svr_rbf.fit(x_train, y_train) #Train the model"
      ],
      "execution_count": null,
      "outputs": [
        {
          "output_type": "execute_result",
          "data": {
            "text/plain": [
              "SVR(C=1000.0, cache_size=200, coef0=0.0, degree=3, epsilon=0.1, gamma=1e-05,\n",
              "    kernel='rbf', max_iter=-1, shrinking=True, tol=0.001, verbose=False)"
            ]
          },
          "metadata": {
            "tags": []
          },
          "execution_count": 60
        }
      ]
    },
    {
      "cell_type": "code",
      "metadata": {
        "colab": {
          "base_uri": "https://localhost:8080/"
        },
        "id": "vImA8DcG_z-b",
        "outputId": "1d7ec55c-2d43-44c7-fdde-f3d9f1dbe7fd"
      },
      "source": [
        "# Testing Model: Score returns the accuracy of the prediction. \n",
        "# The best possible score is 1.0\n",
        "svr_rbf_confidence = svr_rbf.score(x_test, y_test)\n",
        "print(\"svr_rbf accuracy: \", svr_rbf_confidence)"
      ],
      "execution_count": null,
      "outputs": [
        {
          "output_type": "stream",
          "text": [
            "svr_rbf accuracy:  0.12209308930782059\n"
          ],
          "name": "stdout"
        }
      ]
    },
    {
      "cell_type": "code",
      "metadata": {
        "colab": {
          "base_uri": "https://localhost:8080/"
        },
        "id": "nv3ukXmBAJjt",
        "outputId": "e8a80e27-3dcb-420f-dba9-fb2e47b132e5"
      },
      "source": [
        "# Print the predicted value\n",
        "svm_prediction = svr_rbf.predict(x_test)\n",
        "print(svm_prediction)\n",
        "\n",
        "print()\n",
        "\n",
        "#Print the actual values\n",
        "print(y_test)\n"
      ],
      "execution_count": null,
      "outputs": [
        {
          "output_type": "stream",
          "text": [
            "[36214.48900912 39886.2612125  36797.13236233 38286.39955807\n",
            " 39269.48131294 39153.35956848 37986.41205138 37321.07116622\n",
            " 36826.93800628 38946.42715894 36093.75682307 35023.27286407\n",
            " 37016.05420848 39580.75594316 36586.80150539 38932.35790011\n",
            " 40394.50987263 38596.98965571 38358.71386635 39386.1133677\n",
            " 36890.6417899  37135.82338041 39512.72094475 33386.84478715\n",
            " 38358.71387302 38358.71417934 39638.43564712 36818.99663896\n",
            " 38358.18432798 39619.58111664 38952.84231275]\n",
            "\n",
            "[23715.53 56872.38 16091.07 17820.57 37676.25 58075.1  17798.45 34318.1\n",
            " 32099.74 57665.9  18247.76 18318.87 23869.92 59054.1  33002.38 58730.13\n",
            " 37002.09 46340.31 54477.46 51169.7  23150.79 36632.35 55863.93 17151.44\n",
            " 59774.   59964.87 48880.43 17679.72 32276.84 58206.55 59133.47]\n"
          ],
          "name": "stdout"
        }
      ]
    },
    {
      "cell_type": "code",
      "metadata": {
        "colab": {
          "base_uri": "https://localhost:8080/"
        },
        "id": "CT07d6BcA783",
        "outputId": "4b4c204f-06f5-4db8-90cf-426e4feb4e24"
      },
      "source": [
        "# Print the model predictions for the next 'n=30' days\n",
        "svm_prediction = svr_rbf.predict(prediction_days_array)\n",
        "print(svm_prediction)\n",
        "\n",
        "print()\n",
        "\n",
        "print(df.tail(prediction_days))"
      ],
      "execution_count": null,
      "outputs": [
        {
          "output_type": "stream",
          "text": [
            "[40228.9959928  38359.79901691 38973.7524904  38358.7138663\n",
            " 38358.72751996 38358.73097112 38358.71387045 39304.64002313\n",
            " 38839.60548715 39005.38122157 39597.64671174 39049.20134132\n",
            " 40996.98141917 40454.33584263 38358.713866   38555.26521638\n",
            " 38563.49946929 38566.23563672 39259.62719056 38358.73355161\n",
            " 38358.89948625 39297.66112443 38358.71803453 41295.98563197\n",
            " 38358.7216017  38358.73810984 38375.24042094 38359.70942531\n",
            " 38366.02910234 38358.71386585]\n",
            "\n",
            "     market-price  Prediction\n",
            "151      55754.72         NaN\n",
            "152      56872.38         NaN\n",
            "153      58913.00         NaN\n",
            "154      57665.90         NaN\n",
            "155      58075.10         NaN\n",
            "156      58085.80         NaN\n",
            "157      57411.17         NaN\n",
            "158      54204.96         NaN\n",
            "159      54477.46         NaN\n",
            "160      52508.23         NaN\n",
            "161      51415.92         NaN\n",
            "162      55074.47         NaN\n",
            "163      55863.93         NaN\n",
            "164      55783.71         NaN\n",
            "165      57627.67         NaN\n",
            "166      58730.13         NaN\n",
            "167      58735.25         NaN\n",
            "168      58736.92         NaN\n",
            "169      59031.32         NaN\n",
            "170      57076.49         NaN\n",
            "171      58206.55         NaN\n",
            "172      59054.10         NaN\n",
            "173      58020.46         NaN\n",
            "174      55947.27         NaN\n",
            "175      58048.59         NaN\n",
            "176      58102.58         NaN\n",
            "177      59774.00         NaN\n",
            "178      59964.87         NaN\n",
            "179      59834.74         NaN\n",
            "180      63554.44         NaN\n"
          ],
          "name": "stdout"
        }
      ]
    }
  ]
}