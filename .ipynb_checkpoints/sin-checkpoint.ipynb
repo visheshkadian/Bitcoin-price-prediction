{
 "cells": [
  {
   "cell_type": "code",
   "execution_count": 1,
   "metadata": {
    "id": "aI9XS9lP0lgF"
   },
   "outputs": [],
   "source": [
    "import numpy as np \n",
    "import pandas as pd\n",
    "import matplotlib.pyplot as plt\n",
    "import seaborn as sns\n",
    "sns.set()\n",
    "from sklearn.cluster import KMeans"
   ]
  },
  {
   "cell_type": "code",
   "execution_count": null,
   "metadata": {
    "colab": {
     "base_uri": "https://localhost:8080/",
     "height": 73,
     "resources": {
      "http://localhost:8080/nbextensions/google.colab/files.js": {
       "data": "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",
       "headers": [
        [
         "content-type",
         "application/javascript"
        ]
       ],
       "ok": true,
       "status": 200,
       "status_text": ""
      }
     }
    },
    "id": "m2OMVcI-0psw",
    "outputId": "dee4cbaf-48f4-45ad-e01f-68da1fbd759a"
   },
   "outputs": [],
   "source": []
  },
  {
   "cell_type": "code",
   "execution_count": 2,
   "metadata": {
    "colab": {
     "base_uri": "https://localhost:8080/",
     "height": 254
    },
    "id": "tj9O8eyz1m7N",
    "outputId": "8d33e111-4981-4234-e9ba-9c2b83ecfd40"
   },
   "outputs": [
    {
     "data": {
      "text/html": [
       "<div>\n",
       "<style scoped>\n",
       "    .dataframe tbody tr th:only-of-type {\n",
       "        vertical-align: middle;\n",
       "    }\n",
       "\n",
       "    .dataframe tbody tr th {\n",
       "        vertical-align: top;\n",
       "    }\n",
       "\n",
       "    .dataframe thead th {\n",
       "        text-align: right;\n",
       "    }\n",
       "</style>\n",
       "<table border=\"1\" class=\"dataframe\">\n",
       "  <thead>\n",
       "    <tr style=\"text-align: right;\">\n",
       "      <th></th>\n",
       "      <th>Timestamp</th>\n",
       "      <th>market-price</th>\n",
       "    </tr>\n",
       "  </thead>\n",
       "  <tbody>\n",
       "    <tr>\n",
       "      <th>0</th>\n",
       "      <td>2018-04-13 00:00:00</td>\n",
       "      <td>7941.46</td>\n",
       "    </tr>\n",
       "    <tr>\n",
       "      <th>1</th>\n",
       "      <td>2018-04-14 00:00:00</td>\n",
       "      <td>7895.25</td>\n",
       "    </tr>\n",
       "    <tr>\n",
       "      <th>2</th>\n",
       "      <td>2018-04-15 00:00:00</td>\n",
       "      <td>8013.91</td>\n",
       "    </tr>\n",
       "    <tr>\n",
       "      <th>3</th>\n",
       "      <td>2018-04-16 00:00:00</td>\n",
       "      <td>8368.10</td>\n",
       "    </tr>\n",
       "    <tr>\n",
       "      <th>4</th>\n",
       "      <td>2018-04-17 00:00:00</td>\n",
       "      <td>8069.03</td>\n",
       "    </tr>\n",
       "    <tr>\n",
       "      <th>5</th>\n",
       "      <td>2018-04-18 00:00:00</td>\n",
       "      <td>7907.19</td>\n",
       "    </tr>\n",
       "    <tr>\n",
       "      <th>6</th>\n",
       "      <td>2018-04-19 00:00:00</td>\n",
       "      <td>8175.96</td>\n",
       "    </tr>\n",
       "  </tbody>\n",
       "</table>\n",
       "</div>"
      ],
      "text/plain": [
       "             Timestamp  market-price\n",
       "0  2018-04-13 00:00:00       7941.46\n",
       "1  2018-04-14 00:00:00       7895.25\n",
       "2  2018-04-15 00:00:00       8013.91\n",
       "3  2018-04-16 00:00:00       8368.10\n",
       "4  2018-04-17 00:00:00       8069.03\n",
       "5  2018-04-18 00:00:00       7907.19\n",
       "6  2018-04-19 00:00:00       8175.96"
      ]
     },
     "execution_count": 2,
     "metadata": {},
     "output_type": "execute_result"
    }
   ],
   "source": [
    "#Store the data into the variable df\n",
    "df = pd.read_csv('bitcoin.csv')\n",
    "df.head(7)"
   ]
  },
  {
   "cell_type": "code",
   "execution_count": 3,
   "metadata": {
    "id": "sskRz8fA2Jp9"
   },
   "outputs": [],
   "source": [
    "#Remove the Date column\n",
    "df.drop(['Timestamp'], 1, inplace=True)"
   ]
  },
  {
   "cell_type": "code",
   "execution_count": 4,
   "metadata": {
    "colab": {
     "base_uri": "https://localhost:8080/",
     "height": 254
    },
    "id": "pJG5mGjU2WRT",
    "outputId": "29cf6f45-3a98-4966-9275-0f6cacda352e"
   },
   "outputs": [
    {
     "data": {
      "text/html": [
       "<div>\n",
       "<style scoped>\n",
       "    .dataframe tbody tr th:only-of-type {\n",
       "        vertical-align: middle;\n",
       "    }\n",
       "\n",
       "    .dataframe tbody tr th {\n",
       "        vertical-align: top;\n",
       "    }\n",
       "\n",
       "    .dataframe thead th {\n",
       "        text-align: right;\n",
       "    }\n",
       "</style>\n",
       "<table border=\"1\" class=\"dataframe\">\n",
       "  <thead>\n",
       "    <tr style=\"text-align: right;\">\n",
       "      <th></th>\n",
       "      <th>market-price</th>\n",
       "    </tr>\n",
       "  </thead>\n",
       "  <tbody>\n",
       "    <tr>\n",
       "      <th>0</th>\n",
       "      <td>7941.46</td>\n",
       "    </tr>\n",
       "    <tr>\n",
       "      <th>1</th>\n",
       "      <td>7895.25</td>\n",
       "    </tr>\n",
       "    <tr>\n",
       "      <th>2</th>\n",
       "      <td>8013.91</td>\n",
       "    </tr>\n",
       "    <tr>\n",
       "      <th>3</th>\n",
       "      <td>8368.10</td>\n",
       "    </tr>\n",
       "    <tr>\n",
       "      <th>4</th>\n",
       "      <td>8069.03</td>\n",
       "    </tr>\n",
       "    <tr>\n",
       "      <th>5</th>\n",
       "      <td>7907.19</td>\n",
       "    </tr>\n",
       "    <tr>\n",
       "      <th>6</th>\n",
       "      <td>8175.96</td>\n",
       "    </tr>\n",
       "  </tbody>\n",
       "</table>\n",
       "</div>"
      ],
      "text/plain": [
       "   market-price\n",
       "0       7941.46\n",
       "1       7895.25\n",
       "2       8013.91\n",
       "3       8368.10\n",
       "4       8069.03\n",
       "5       7907.19\n",
       "6       8175.96"
      ]
     },
     "execution_count": 4,
     "metadata": {},
     "output_type": "execute_result"
    }
   ],
   "source": [
    "#Show the first 7 rows of the new data set\n",
    "df.head(7)"
   ]
  },
  {
   "cell_type": "code",
   "execution_count": 5,
   "metadata": {
    "id": "kJq5q1Cr212S"
   },
   "outputs": [],
   "source": [
    "#A variable for predicting 'n' days out into the future\n",
    "prediction_days = 60 #n = 30 days\n",
    "\n",
    "#Create another column (the target or dependent variable) shifted 'n' units up\n",
    "df['Prediction'] = df[['market-price']].shift(-prediction_days)"
   ]
  },
  {
   "cell_type": "code",
   "execution_count": 6,
   "metadata": {
    "colab": {
     "base_uri": "https://localhost:8080/",
     "height": 343
    },
    "id": "x5qekXUh29dc",
    "outputId": "a9a3b6ae-c4c3-4871-d8c4-fa668d7fc633"
   },
   "outputs": [
    {
     "data": {
      "text/html": [
       "<div>\n",
       "<style scoped>\n",
       "    .dataframe tbody tr th:only-of-type {\n",
       "        vertical-align: middle;\n",
       "    }\n",
       "\n",
       "    .dataframe tbody tr th {\n",
       "        vertical-align: top;\n",
       "    }\n",
       "\n",
       "    .dataframe thead th {\n",
       "        text-align: right;\n",
       "    }\n",
       "</style>\n",
       "<table border=\"1\" class=\"dataframe\">\n",
       "  <thead>\n",
       "    <tr style=\"text-align: right;\">\n",
       "      <th></th>\n",
       "      <th>market-price</th>\n",
       "      <th>Prediction</th>\n",
       "    </tr>\n",
       "  </thead>\n",
       "  <tbody>\n",
       "    <tr>\n",
       "      <th>0</th>\n",
       "      <td>7941.46</td>\n",
       "      <td>6879.31</td>\n",
       "    </tr>\n",
       "    <tr>\n",
       "      <th>1</th>\n",
       "      <td>7895.25</td>\n",
       "      <td>6553.00</td>\n",
       "    </tr>\n",
       "    <tr>\n",
       "      <th>2</th>\n",
       "      <td>8013.91</td>\n",
       "      <td>6299.89</td>\n",
       "    </tr>\n",
       "    <tr>\n",
       "      <th>3</th>\n",
       "      <td>8368.10</td>\n",
       "      <td>6637.41</td>\n",
       "    </tr>\n",
       "    <tr>\n",
       "      <th>4</th>\n",
       "      <td>8069.03</td>\n",
       "      <td>6391.16</td>\n",
       "    </tr>\n",
       "    <tr>\n",
       "      <th>5</th>\n",
       "      <td>7907.19</td>\n",
       "      <td>6488.68</td>\n",
       "    </tr>\n",
       "    <tr>\n",
       "      <th>6</th>\n",
       "      <td>8175.96</td>\n",
       "      <td>6445.79</td>\n",
       "    </tr>\n",
       "    <tr>\n",
       "      <th>7</th>\n",
       "      <td>8288.12</td>\n",
       "      <td>6712.50</td>\n",
       "    </tr>\n",
       "    <tr>\n",
       "      <th>8</th>\n",
       "      <td>8876.51</td>\n",
       "      <td>6743.41</td>\n",
       "    </tr>\n",
       "    <tr>\n",
       "      <th>9</th>\n",
       "      <td>8930.60</td>\n",
       "      <td>6760.83</td>\n",
       "    </tr>\n",
       "  </tbody>\n",
       "</table>\n",
       "</div>"
      ],
      "text/plain": [
       "   market-price  Prediction\n",
       "0       7941.46     6879.31\n",
       "1       7895.25     6553.00\n",
       "2       8013.91     6299.89\n",
       "3       8368.10     6637.41\n",
       "4       8069.03     6391.16\n",
       "5       7907.19     6488.68\n",
       "6       8175.96     6445.79\n",
       "7       8288.12     6712.50\n",
       "8       8876.51     6743.41\n",
       "9       8930.60     6760.83"
      ]
     },
     "execution_count": 6,
     "metadata": {},
     "output_type": "execute_result"
    }
   ],
   "source": [
    "df.head(10)"
   ]
  },
  {
   "cell_type": "code",
   "execution_count": 7,
   "metadata": {
    "colab": {
     "base_uri": "https://localhost:8080/",
     "height": 254
    },
    "id": "dI6bCrMD3TQI",
    "outputId": "7b81b07c-0542-4eae-f5e2-e802664b1bca"
   },
   "outputs": [
    {
     "data": {
      "text/html": [
       "<div>\n",
       "<style scoped>\n",
       "    .dataframe tbody tr th:only-of-type {\n",
       "        vertical-align: middle;\n",
       "    }\n",
       "\n",
       "    .dataframe tbody tr th {\n",
       "        vertical-align: top;\n",
       "    }\n",
       "\n",
       "    .dataframe thead th {\n",
       "        text-align: right;\n",
       "    }\n",
       "</style>\n",
       "<table border=\"1\" class=\"dataframe\">\n",
       "  <thead>\n",
       "    <tr style=\"text-align: right;\">\n",
       "      <th></th>\n",
       "      <th>market-price</th>\n",
       "      <th>Prediction</th>\n",
       "    </tr>\n",
       "  </thead>\n",
       "  <tbody>\n",
       "    <tr>\n",
       "      <th>1089</th>\n",
       "      <td>59054.10</td>\n",
       "      <td>NaN</td>\n",
       "    </tr>\n",
       "    <tr>\n",
       "      <th>1090</th>\n",
       "      <td>58020.46</td>\n",
       "      <td>NaN</td>\n",
       "    </tr>\n",
       "    <tr>\n",
       "      <th>1091</th>\n",
       "      <td>55947.27</td>\n",
       "      <td>NaN</td>\n",
       "    </tr>\n",
       "    <tr>\n",
       "      <th>1092</th>\n",
       "      <td>58048.59</td>\n",
       "      <td>NaN</td>\n",
       "    </tr>\n",
       "    <tr>\n",
       "      <th>1093</th>\n",
       "      <td>58102.58</td>\n",
       "      <td>NaN</td>\n",
       "    </tr>\n",
       "    <tr>\n",
       "      <th>1094</th>\n",
       "      <td>59774.00</td>\n",
       "      <td>NaN</td>\n",
       "    </tr>\n",
       "    <tr>\n",
       "      <th>1095</th>\n",
       "      <td>59964.87</td>\n",
       "      <td>NaN</td>\n",
       "    </tr>\n",
       "  </tbody>\n",
       "</table>\n",
       "</div>"
      ],
      "text/plain": [
       "      market-price  Prediction\n",
       "1089      59054.10         NaN\n",
       "1090      58020.46         NaN\n",
       "1091      55947.27         NaN\n",
       "1092      58048.59         NaN\n",
       "1093      58102.58         NaN\n",
       "1094      59774.00         NaN\n",
       "1095      59964.87         NaN"
      ]
     },
     "execution_count": 7,
     "metadata": {},
     "output_type": "execute_result"
    }
   ],
   "source": [
    "df.tail(7)"
   ]
  },
  {
   "cell_type": "code",
   "execution_count": 8,
   "metadata": {
    "colab": {
     "base_uri": "https://localhost:8080/"
    },
    "id": "rzKARCNg4PqH",
    "outputId": "ec244470-7fcf-4f29-a64c-00b952c8c832"
   },
   "outputs": [
    {
     "name": "stdout",
     "output_type": "stream",
     "text": [
      "[[ 7941.46]\n",
      " [ 7895.25]\n",
      " [ 8013.91]\n",
      " ...\n",
      " [46364.3 ]\n",
      " [46589.58]\n",
      " [44878.17]]\n"
     ]
    }
   ],
   "source": [
    "#CREATE THE INDEPENDENT DATA SET (X)\n",
    "\n",
    "# Convert the dataframe to a numpy array and drop the prediction column\n",
    "X = np.array(df.drop(['Prediction'],1))\n",
    "\n",
    "#Remove the last 'n' rows where 'n' is the prediction_days\n",
    "X= X[:len(df)-prediction_days]\n",
    "print(X)"
   ]
  },
  {
   "cell_type": "code",
   "execution_count": 9,
   "metadata": {
    "colab": {
     "base_uri": "https://localhost:8080/"
    },
    "id": "dKmUXAKd9QSK",
    "outputId": "2ce7b364-69f7-4ec0-8fb0-4734f9cdc21f"
   },
   "outputs": [
    {
     "name": "stdout",
     "output_type": "stream",
     "text": [
      "[ 6879.31  6553.    6299.89 ... 58102.58 59774.   59964.87]\n"
     ]
    }
   ],
   "source": [
    "#CREATE THE DEPENDENT DATA SET (y) \n",
    "# Convert the dataframe to a numpy array (All of the values including the NaN's) y = np.array(df['Prediction'])  \n",
    "y=np.array(df['Prediction'])\n",
    "# Get all of the y values except the last 'n' rows \n",
    "y = y[:-prediction_days] \n",
    "print(y)"
   ]
  },
  {
   "cell_type": "code",
   "execution_count": 10,
   "metadata": {
    "id": "q-QcoeuF-smS"
   },
   "outputs": [],
   "source": [
    "# Split the data into 80% training and 20% testing\n",
    "from sklearn.model_selection import train_test_split\n",
    "x_train, x_test, y_train, y_test = train_test_split(X, y, test_size=0.2)"
   ]
  },
  {
   "cell_type": "code",
   "execution_count": 11,
   "metadata": {
    "colab": {
     "base_uri": "https://localhost:8080/"
    },
    "id": "GPXMDIef-uSn",
    "outputId": "b1ffd2fe-005c-4384-c16c-8a8c74f91555"
   },
   "outputs": [
    {
     "name": "stdout",
     "output_type": "stream",
     "text": [
      "[[48013.38]\n",
      " [47471.4 ]\n",
      " [47185.19]\n",
      " [48720.37]\n",
      " [47951.85]\n",
      " [49160.1 ]\n",
      " [52118.23]\n",
      " [51608.15]\n",
      " [55916.5 ]\n",
      " [56001.2 ]\n",
      " [57487.86]\n",
      " [54123.4 ]\n",
      " [48880.43]\n",
      " [50624.84]\n",
      " [46800.42]\n",
      " [46340.31]\n",
      " [46155.87]\n",
      " [45113.92]\n",
      " [49618.43]\n",
      " [48356.04]\n",
      " [50477.7 ]\n",
      " [48448.91]\n",
      " [48861.38]\n",
      " [48881.59]\n",
      " [51169.7 ]\n",
      " [52299.33]\n",
      " [54881.52]\n",
      " [55997.23]\n",
      " [57764.  ]\n",
      " [57253.28]\n",
      " [61258.73]\n",
      " [59133.47]\n",
      " [55754.72]\n",
      " [56872.38]\n",
      " [58913.  ]\n",
      " [57665.9 ]\n",
      " [58075.1 ]\n",
      " [58085.8 ]\n",
      " [57411.17]\n",
      " [54204.96]\n",
      " [54477.46]\n",
      " [52508.23]\n",
      " [51415.92]\n",
      " [55074.47]\n",
      " [55863.93]\n",
      " [55783.71]\n",
      " [57627.67]\n",
      " [58730.13]\n",
      " [58735.25]\n",
      " [58736.92]\n",
      " [59031.32]\n",
      " [57076.49]\n",
      " [58206.55]\n",
      " [59054.1 ]\n",
      " [58020.46]\n",
      " [55947.27]\n",
      " [58048.59]\n",
      " [58102.58]\n",
      " [59774.  ]\n",
      " [59964.87]]\n"
     ]
    }
   ],
   "source": [
    "# Set prediction_days_array equal to the last 30 rows of the original data set from the price column\n",
    "prediction_days_array = np.array(df.drop(['Prediction'],1))[-prediction_days:]\n",
    "print(prediction_days_array)\n"
   ]
  },
  {
   "cell_type": "code",
   "execution_count": 12,
   "metadata": {
    "colab": {
     "base_uri": "https://localhost:8080/"
    },
    "id": "lv7hOt99_RDD",
    "outputId": "bda82ac9-2175-4ffd-9014-62f64d374656"
   },
   "outputs": [
    {
     "data": {
      "text/plain": [
       "SVR(C=1000.0, gamma=1e-05)"
      ]
     },
     "execution_count": 12,
     "metadata": {},
     "output_type": "execute_result"
    }
   ],
   "source": [
    "from sklearn.svm import SVR\n",
    "# Create and train the Support Vector Machine \n",
    "svr_rbf = SVR(kernel='rbf', C=1e3, gamma=0.00001)#Create the model\n",
    "svr_rbf.fit(x_train, y_train) #Train the model"
   ]
  },
  {
   "cell_type": "code",
   "execution_count": 13,
   "metadata": {
    "colab": {
     "base_uri": "https://localhost:8080/"
    },
    "id": "vImA8DcG_z-b",
    "outputId": "5e98cf80-1fbe-4227-a1c6-a1ce0072fa32"
   },
   "outputs": [
    {
     "name": "stdout",
     "output_type": "stream",
     "text": [
      "svr_rbf accuracy:  0.3470152920525492\n"
     ]
    }
   ],
   "source": [
    "# Testing Model: Score returns the accuracy of the prediction. \n",
    "# The best possible score is 1.0\n",
    "svr_rbf_confidence = svr_rbf.score(x_test, y_test)\n",
    "print(\"svr_rbf accuracy: \", svr_rbf_confidence)"
   ]
  },
  {
   "cell_type": "code",
   "execution_count": 14,
   "metadata": {
    "colab": {
     "base_uri": "https://localhost:8080/"
    },
    "id": "nv3ukXmBAJjt",
    "outputId": "3a61cf17-4f7c-48d9-dc0e-4a4425cae8e2"
   },
   "outputs": [
    {
     "name": "stdout",
     "output_type": "stream",
     "text": [
      "[ 5658.39464961 11750.95052105  5576.9004007   8505.51885716\n",
      "  7513.04265959  9584.79558556  9573.77976211  8451.28448977\n",
      "  8650.10425896  6687.52097523  9633.12285967 14533.93890348\n",
      "  6791.64631621  5674.46253353  7482.5182264  16286.17634075\n",
      "  8414.88625407  6920.05183937  7601.2240539   9018.3121059\n",
      " 12595.59190714  7869.55568604  8648.6957762  10076.0359911\n",
      "  8778.69386899  8484.50521754  7339.89984264  4042.63312568\n",
      "  8409.46027039 11289.68768945 13273.8318089   4698.55490908\n",
      "  8408.10351087  7370.31267984  7233.13404044  4390.88545261\n",
      "  6575.34271226  9872.44006473  8127.73288221  8600.03763768\n",
      "  4107.21653268 19075.94968194 10925.51384292 11336.86418291\n",
      " 15362.15688701  8150.71484961  6793.8685882  17777.5885581\n",
      "  5683.6918012  16285.48727555  9442.80337364  9876.00641773\n",
      " 17307.75035552  8629.24906186  9776.7746678   4416.38711544\n",
      "  8114.60080779  9453.06895921 17319.9004684   8064.6847143\n",
      "  7253.1674653   8435.25551208  8336.74695552 10548.37826463\n",
      " 19847.25926136  8353.14257878 10906.49986387  9111.47619943\n",
      "  5661.70114495  8421.82628814  9452.31232319  8490.18898648\n",
      "  7437.4044163   8380.39053309  9404.9851993   9393.75968717\n",
      "  7563.72907152  7436.56937171  8103.47668374 12037.81517736\n",
      "  9529.40998404  6181.29432453 12561.22101241  9956.15857089\n",
      "  8006.7339248   9532.36264779  7637.49685031  7122.7235474\n",
      " 12621.73816566  6711.71683851  9184.88912649  6767.22123678\n",
      " 16654.0482794   5811.82722804  5912.25016304  4061.4339182\n",
      " 17735.75236013  7391.16902698  9096.29502085 15038.15360558\n",
      "  4029.64388876  5990.94116424  6058.69620984 15184.41427669\n",
      "  9198.79119656  9431.15287639  5137.91509556  4500.2801999\n",
      " 16371.3676938   8679.79987629 20594.53771997  8652.8304001\n",
      "  5707.05116082  9927.97928594  9464.38347962  7075.4338305\n",
      "  8367.82996667  9489.35637836  9593.35895767  8727.95743763\n",
      " 16618.23583377  7346.511915    7707.53115918  8409.55600621\n",
      " 16972.77101823  5819.89096836  4665.50471121  9660.63127181\n",
      "  8493.05005367  6219.82339756  8138.42158545 14726.85479216\n",
      " 20922.62541154  9629.18444996 12229.27416637 10581.29667531\n",
      " 16129.73101855 13790.5779377   9583.57761575 20224.26669207\n",
      "  6945.11054737  4970.17765476  8463.66887812  9025.50314388\n",
      "  9876.8547754  15620.06477321  4014.98259189  9772.14430297\n",
      "  9791.28709092  9468.40004472  5686.92023821  4024.12539446\n",
      "  9503.74604207  5668.17977716  4522.52942143  7458.37733097\n",
      " 17267.18535832  8307.65701057  9055.9636611   9448.16911603\n",
      " 10889.79607311  8061.26056038  9540.64672292  7954.38778255\n",
      "  9582.74475422 15869.74341623 15310.54490054  7230.43430166\n",
      "  9949.13686407  9439.04849001  7579.41677702  7637.71067785\n",
      " 17435.48071441  8186.82722172  8905.17374975 11686.82385092\n",
      "  9646.92173889 20537.52919746  9030.2473736   8281.68169568\n",
      " 19095.48116351  8981.16365495  7534.25890977 10912.75440448\n",
      "  9414.96943779  9832.97113988  6941.28315681  7608.27048816\n",
      "  9597.71501632  9259.29544869 15749.76990402  7728.81240407\n",
      "  6526.76256436  8276.57319117  8970.56163759 10258.91415471\n",
      "  5310.28631106  8131.42282464 10128.05782903 16801.38965522\n",
      "  8415.87233478  9528.95701651  9764.57968849  7063.33966819\n",
      "  7427.63136494 10575.7688908  16997.93269874 11833.91128304]\n",
      "\n",
      "[ 3995.17 10171.95  5755.72  9459.97 10529.55  9854.79  6338.78  9279.81\n",
      "  8231.06  5518.16  6623.8   9577.99  7885.96  4075.15  4491.98 34314.26\n",
      "  9755.66  4312.31  6768.49  7939.81 13651.47  6391.16 10764.9   9385.7\n",
      " 11960.82  8418.11  6394.18  3881.09  5166.26 10788.56 16725.15  4115.55\n",
      " 13575.17  6705.66  7309.59  3834.62  5592.58 10395.44  7765.33  7284.29\n",
      "  3992.34 10135.06 11431.32 12944.52 19709.73  9875.17  3944.88 34046.67\n",
      "  4010.72  7960.04  6405.29 11707.78 51415.92  6472.41  5885.41  3452.35\n",
      "  5822.62 11573.11 38240.09  7337.42  7757.47  8171.49  9133.97 10386.64\n",
      " 24693.58  9300.15  9057.57  8617.25  3734.55  6586.58  8225.   10016.96\n",
      "  6525.96 11389.1   7477.6   6390.42  6718.7   7402.69  9185.35 18247.76\n",
      "  6852.52  3828.45  8147.69 10948.43  7324.03  8712.35  8553.81  6501.19\n",
      " 19276.59  3793.35 11803.97  6476.85 51608.15  3894.21  4020.97  3994.11\n",
      " 36632.35  8898.63  6592.64  8308.01  3877.77  3637.31  9904.17 58102.58\n",
      "  7617.07  9526.    5189.39  3661.08  9484.55 10368.53 48013.38  9305.93\n",
      "  6312.75  6944.33 11914.01  6262.64 10760.56 11774.38  7343.2   6583.45\n",
      " 48881.59  3886.82  3600.31 10420.16 36065.2   6240.98  5028.77  6602.32\n",
      "  7293.69  7992.69  9613.11 10275.88 35538.98  7365.03  9343.34  8717.81\n",
      " 16339.33 17820.57 10180.65 44878.17  6466.29  5390.16  6253.99  9623.75\n",
      " 10227.83 49618.43  5220.37 10317.6  10214.52 11683.44  3848.21  5064.62\n",
      "  9131.    3821.52  4114.16  7192.85 57411.17  9844.3   9807.54  9218.76\n",
      " 11063.19 10002.48 10234.48  7130.25  9426.7   9600.9  59133.47  6712.5\n",
      "  6778.38  8762.42  8910.85  6626.85 55074.47  9848.65  8056.74 13128.46\n",
      "  6428.28 37676.25  6756.12 10535.75 28982.56  9067.39  8662.98  3682.48\n",
      "  9454.81 10159.62  3472.98  5434.19  8534.17  9378.09 10111.98  6695.32\n",
      "  9197.54  7917.58  9240.85 10578.72  5260.65  9473.99 11477.01 48448.91\n",
      " 15591.39  6518.97 11865.82  4616.44  7296.77  9569.21 56872.38 12831.56]\n"
     ]
    }
   ],
   "source": [
    "# Print the predicted value\n",
    "svm_prediction = svr_rbf.predict(x_test)\n",
    "print(svm_prediction)\n",
    "\n",
    "print()\n",
    "\n",
    "#Print the actual values\n",
    "print(y_test)\n"
   ]
  },
  {
   "cell_type": "code",
   "execution_count": 15,
   "metadata": {
    "colab": {
     "base_uri": "https://localhost:8080/"
    },
    "id": "CT07d6BcA783",
    "outputId": "2ca69a66-61eb-49f1-ff72-bddfd190b3b7"
   },
   "outputs": [
    {
     "name": "stdout",
     "output_type": "stream",
     "text": [
      "[14582.42207405 14582.84173272 14611.21824726 14582.42207248\n",
      " 14582.4220812  14582.42207248 14582.42207248 14582.42207248\n",
      " 14582.42207248 14582.42207248 14582.42207248 14582.42207248\n",
      " 14582.42207248 14582.42207248 15223.54436519 15119.63791276\n",
      " 14734.85309331 15156.04637374 14582.42207248 14582.42207248\n",
      " 14582.42207248 14582.42207248 14582.42207248 14582.42207248\n",
      " 14582.42207248 14582.42207248 14582.42207248 14582.42207248\n",
      " 14582.42207248 14582.42207248 14582.42207248 14582.42207248\n",
      " 14582.42207248 14582.42207248 14582.42207248 14582.42207248\n",
      " 14582.42207248 14582.42207248 14582.42207248 14582.42207248\n",
      " 14582.42207248 14582.42207248 14582.42207248 14582.42207248\n",
      " 14582.42207248 14582.42207248 14582.42207248 14582.42207248\n",
      " 14582.42207248 14582.42207248 14582.42207248 14582.42207248\n",
      " 14582.42207248 14582.42207248 14582.42207248 14582.42207248\n",
      " 14582.42207248 14582.42207248 14582.42207248 14582.42207248]\n",
      "\n",
      "      market-price  Prediction\n",
      "1036      48013.38         NaN\n",
      "1037      47471.40         NaN\n",
      "1038      47185.19         NaN\n",
      "1039      48720.37         NaN\n",
      "1040      47951.85         NaN\n",
      "1041      49160.10         NaN\n",
      "1042      52118.23         NaN\n",
      "1043      51608.15         NaN\n",
      "1044      55916.50         NaN\n",
      "1045      56001.20         NaN\n",
      "1046      57487.86         NaN\n",
      "1047      54123.40         NaN\n",
      "1048      48880.43         NaN\n",
      "1049      50624.84         NaN\n",
      "1050      46800.42         NaN\n",
      "1051      46340.31         NaN\n",
      "1052      46155.87         NaN\n",
      "1053      45113.92         NaN\n",
      "1054      49618.43         NaN\n",
      "1055      48356.04         NaN\n",
      "1056      50477.70         NaN\n",
      "1057      48448.91         NaN\n",
      "1058      48861.38         NaN\n",
      "1059      48881.59         NaN\n",
      "1060      51169.70         NaN\n",
      "1061      52299.33         NaN\n",
      "1062      54881.52         NaN\n",
      "1063      55997.23         NaN\n",
      "1064      57764.00         NaN\n",
      "1065      57253.28         NaN\n",
      "1066      61258.73         NaN\n",
      "1067      59133.47         NaN\n",
      "1068      55754.72         NaN\n",
      "1069      56872.38         NaN\n",
      "1070      58913.00         NaN\n",
      "1071      57665.90         NaN\n",
      "1072      58075.10         NaN\n",
      "1073      58085.80         NaN\n",
      "1074      57411.17         NaN\n",
      "1075      54204.96         NaN\n",
      "1076      54477.46         NaN\n",
      "1077      52508.23         NaN\n",
      "1078      51415.92         NaN\n",
      "1079      55074.47         NaN\n",
      "1080      55863.93         NaN\n",
      "1081      55783.71         NaN\n",
      "1082      57627.67         NaN\n",
      "1083      58730.13         NaN\n",
      "1084      58735.25         NaN\n",
      "1085      58736.92         NaN\n",
      "1086      59031.32         NaN\n",
      "1087      57076.49         NaN\n",
      "1088      58206.55         NaN\n",
      "1089      59054.10         NaN\n",
      "1090      58020.46         NaN\n",
      "1091      55947.27         NaN\n",
      "1092      58048.59         NaN\n",
      "1093      58102.58         NaN\n",
      "1094      59774.00         NaN\n",
      "1095      59964.87         NaN\n"
     ]
    }
   ],
   "source": [
    "# Print the model predictions for the next 'n=30' days\n",
    "svm_prediction = svr_rbf.predict(prediction_days_array)\n",
    "print(svm_prediction)\n",
    "\n",
    "print()\n",
    "\n",
    "print(df.tail(prediction_days))"
   ]
  },
  {
   "cell_type": "code",
   "execution_count": 16,
   "metadata": {},
   "outputs": [
    {
     "ename": "KeyError",
     "evalue": "'Timestamp'",
     "output_type": "error",
     "traceback": [
      "\u001b[1;31m---------------------------------------------------------------------------\u001b[0m",
      "\u001b[1;31mKeyError\u001b[0m                                  Traceback (most recent call last)",
      "\u001b[1;32m~\\anaconda3\\lib\\site-packages\\pandas\\core\\indexes\\base.py\u001b[0m in \u001b[0;36mget_loc\u001b[1;34m(self, key, method, tolerance)\u001b[0m\n\u001b[0;32m   2894\u001b[0m             \u001b[1;32mtry\u001b[0m\u001b[1;33m:\u001b[0m\u001b[1;33m\u001b[0m\u001b[1;33m\u001b[0m\u001b[0m\n\u001b[1;32m-> 2895\u001b[1;33m                 \u001b[1;32mreturn\u001b[0m \u001b[0mself\u001b[0m\u001b[1;33m.\u001b[0m\u001b[0m_engine\u001b[0m\u001b[1;33m.\u001b[0m\u001b[0mget_loc\u001b[0m\u001b[1;33m(\u001b[0m\u001b[0mcasted_key\u001b[0m\u001b[1;33m)\u001b[0m\u001b[1;33m\u001b[0m\u001b[1;33m\u001b[0m\u001b[0m\n\u001b[0m\u001b[0;32m   2896\u001b[0m             \u001b[1;32mexcept\u001b[0m \u001b[0mKeyError\u001b[0m \u001b[1;32mas\u001b[0m \u001b[0merr\u001b[0m\u001b[1;33m:\u001b[0m\u001b[1;33m\u001b[0m\u001b[1;33m\u001b[0m\u001b[0m\n",
      "\u001b[1;32mpandas\\_libs\\index.pyx\u001b[0m in \u001b[0;36mpandas._libs.index.IndexEngine.get_loc\u001b[1;34m()\u001b[0m\n",
      "\u001b[1;32mpandas\\_libs\\index.pyx\u001b[0m in \u001b[0;36mpandas._libs.index.IndexEngine.get_loc\u001b[1;34m()\u001b[0m\n",
      "\u001b[1;32mpandas\\_libs\\hashtable_class_helper.pxi\u001b[0m in \u001b[0;36mpandas._libs.hashtable.PyObjectHashTable.get_item\u001b[1;34m()\u001b[0m\n",
      "\u001b[1;32mpandas\\_libs\\hashtable_class_helper.pxi\u001b[0m in \u001b[0;36mpandas._libs.hashtable.PyObjectHashTable.get_item\u001b[1;34m()\u001b[0m\n",
      "\u001b[1;31mKeyError\u001b[0m: 'Timestamp'",
      "\nThe above exception was the direct cause of the following exception:\n",
      "\u001b[1;31mKeyError\u001b[0m                                  Traceback (most recent call last)",
      "\u001b[1;32m<ipython-input-16-b3ef08397d11>\u001b[0m in \u001b[0;36m<module>\u001b[1;34m\u001b[0m\n\u001b[1;32m----> 1\u001b[1;33m \u001b[0mplt\u001b[0m\u001b[1;33m.\u001b[0m\u001b[0mscatter\u001b[0m\u001b[1;33m(\u001b[0m\u001b[0mdf\u001b[0m\u001b[1;33m[\u001b[0m\u001b[1;34m'Timestamp'\u001b[0m\u001b[1;33m]\u001b[0m\u001b[1;33m,\u001b[0m\u001b[0mdf\u001b[0m\u001b[1;33m[\u001b[0m\u001b[1;34m'market-price'\u001b[0m\u001b[1;33m]\u001b[0m\u001b[1;33m)\u001b[0m\u001b[1;33m\u001b[0m\u001b[1;33m\u001b[0m\u001b[0m\n\u001b[0m\u001b[0;32m      2\u001b[0m \u001b[0mplt\u001b[0m\u001b[1;33m.\u001b[0m\u001b[0mxlabel\u001b[0m\u001b[1;33m(\u001b[0m\u001b[1;34m'Timestamp'\u001b[0m\u001b[1;33m)\u001b[0m\u001b[1;33m\u001b[0m\u001b[1;33m\u001b[0m\u001b[0m\n\u001b[0;32m      3\u001b[0m \u001b[0mplt\u001b[0m\u001b[1;33m.\u001b[0m\u001b[0mylabel\u001b[0m\u001b[1;33m(\u001b[0m\u001b[1;34m'market-price'\u001b[0m\u001b[1;33m)\u001b[0m\u001b[1;33m\u001b[0m\u001b[1;33m\u001b[0m\u001b[0m\n\u001b[0;32m      4\u001b[0m \u001b[0mplt\u001b[0m\u001b[1;33m.\u001b[0m\u001b[0mshow\u001b[0m\u001b[1;33m(\u001b[0m\u001b[1;33m)\u001b[0m\u001b[1;33m\u001b[0m\u001b[1;33m\u001b[0m\u001b[0m\n",
      "\u001b[1;32m~\\anaconda3\\lib\\site-packages\\pandas\\core\\frame.py\u001b[0m in \u001b[0;36m__getitem__\u001b[1;34m(self, key)\u001b[0m\n\u001b[0;32m   2900\u001b[0m             \u001b[1;32mif\u001b[0m \u001b[0mself\u001b[0m\u001b[1;33m.\u001b[0m\u001b[0mcolumns\u001b[0m\u001b[1;33m.\u001b[0m\u001b[0mnlevels\u001b[0m \u001b[1;33m>\u001b[0m \u001b[1;36m1\u001b[0m\u001b[1;33m:\u001b[0m\u001b[1;33m\u001b[0m\u001b[1;33m\u001b[0m\u001b[0m\n\u001b[0;32m   2901\u001b[0m                 \u001b[1;32mreturn\u001b[0m \u001b[0mself\u001b[0m\u001b[1;33m.\u001b[0m\u001b[0m_getitem_multilevel\u001b[0m\u001b[1;33m(\u001b[0m\u001b[0mkey\u001b[0m\u001b[1;33m)\u001b[0m\u001b[1;33m\u001b[0m\u001b[1;33m\u001b[0m\u001b[0m\n\u001b[1;32m-> 2902\u001b[1;33m             \u001b[0mindexer\u001b[0m \u001b[1;33m=\u001b[0m \u001b[0mself\u001b[0m\u001b[1;33m.\u001b[0m\u001b[0mcolumns\u001b[0m\u001b[1;33m.\u001b[0m\u001b[0mget_loc\u001b[0m\u001b[1;33m(\u001b[0m\u001b[0mkey\u001b[0m\u001b[1;33m)\u001b[0m\u001b[1;33m\u001b[0m\u001b[1;33m\u001b[0m\u001b[0m\n\u001b[0m\u001b[0;32m   2903\u001b[0m             \u001b[1;32mif\u001b[0m \u001b[0mis_integer\u001b[0m\u001b[1;33m(\u001b[0m\u001b[0mindexer\u001b[0m\u001b[1;33m)\u001b[0m\u001b[1;33m:\u001b[0m\u001b[1;33m\u001b[0m\u001b[1;33m\u001b[0m\u001b[0m\n\u001b[0;32m   2904\u001b[0m                 \u001b[0mindexer\u001b[0m \u001b[1;33m=\u001b[0m \u001b[1;33m[\u001b[0m\u001b[0mindexer\u001b[0m\u001b[1;33m]\u001b[0m\u001b[1;33m\u001b[0m\u001b[1;33m\u001b[0m\u001b[0m\n",
      "\u001b[1;32m~\\anaconda3\\lib\\site-packages\\pandas\\core\\indexes\\base.py\u001b[0m in \u001b[0;36mget_loc\u001b[1;34m(self, key, method, tolerance)\u001b[0m\n\u001b[0;32m   2895\u001b[0m                 \u001b[1;32mreturn\u001b[0m \u001b[0mself\u001b[0m\u001b[1;33m.\u001b[0m\u001b[0m_engine\u001b[0m\u001b[1;33m.\u001b[0m\u001b[0mget_loc\u001b[0m\u001b[1;33m(\u001b[0m\u001b[0mcasted_key\u001b[0m\u001b[1;33m)\u001b[0m\u001b[1;33m\u001b[0m\u001b[1;33m\u001b[0m\u001b[0m\n\u001b[0;32m   2896\u001b[0m             \u001b[1;32mexcept\u001b[0m \u001b[0mKeyError\u001b[0m \u001b[1;32mas\u001b[0m \u001b[0merr\u001b[0m\u001b[1;33m:\u001b[0m\u001b[1;33m\u001b[0m\u001b[1;33m\u001b[0m\u001b[0m\n\u001b[1;32m-> 2897\u001b[1;33m                 \u001b[1;32mraise\u001b[0m \u001b[0mKeyError\u001b[0m\u001b[1;33m(\u001b[0m\u001b[0mkey\u001b[0m\u001b[1;33m)\u001b[0m \u001b[1;32mfrom\u001b[0m \u001b[0merr\u001b[0m\u001b[1;33m\u001b[0m\u001b[1;33m\u001b[0m\u001b[0m\n\u001b[0m\u001b[0;32m   2898\u001b[0m \u001b[1;33m\u001b[0m\u001b[0m\n\u001b[0;32m   2899\u001b[0m         \u001b[1;32mif\u001b[0m \u001b[0mtolerance\u001b[0m \u001b[1;32mis\u001b[0m \u001b[1;32mnot\u001b[0m \u001b[1;32mNone\u001b[0m\u001b[1;33m:\u001b[0m\u001b[1;33m\u001b[0m\u001b[1;33m\u001b[0m\u001b[0m\n",
      "\u001b[1;31mKeyError\u001b[0m: 'Timestamp'"
     ]
    }
   ],
   "source": [
    "dff = \n",
    "plt.scatter(df['Timestamp'],df['market-price'])\n",
    "plt.xlabel('Timestamp')\n",
    "plt.ylabel('market-price')\n",
    "plt.show()"
   ]
  },
  {
   "cell_type": "code",
   "execution_count": null,
   "metadata": {},
   "outputs": [],
   "source": []
  },
  {
   "cell_type": "code",
   "execution_count": null,
   "metadata": {},
   "outputs": [],
   "source": []
  }
 ],
 "metadata": {
  "colab": {
   "collapsed_sections": [],
   "name": "sin.ipynb",
   "provenance": []
  },
  "kernelspec": {
   "display_name": "Python 3",
   "language": "python",
   "name": "python3"
  },
  "language_info": {
   "codemirror_mode": {
    "name": "ipython",
    "version": 3
   },
   "file_extension": ".py",
   "mimetype": "text/x-python",
   "name": "python",
   "nbconvert_exporter": "python",
   "pygments_lexer": "ipython3",
   "version": "3.8.5"
  }
 },
 "nbformat": 4,
 "nbformat_minor": 1
}
